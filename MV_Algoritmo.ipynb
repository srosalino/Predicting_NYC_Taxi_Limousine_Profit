{
 "cells": [
  {
   "cell_type": "code",
   "execution_count": 1,
   "id": "cad67135-31d7-4623-905c-9da27c0086f4",
   "metadata": {},
   "outputs": [],
   "source": [
    "# Importação das bibliotecas necessárias\n",
    "\n",
    "import boto3\n",
    "from botocore import UNSIGNED\n",
    "from botocore.client import Config\n",
    "import pandas as pd\n",
    "import numpy as np\n",
    "import seaborn as sns\n",
    "import datetime as dt\n",
    "import matplotlib.pyplot as plt\n",
    "from pyspark.ml.feature import VectorAssembler\n",
    "from pyspark.ml.regression import LinearRegression"
   ]
  },
  {
   "cell_type": "code",
   "execution_count": 2,
   "id": "993e7084-8ec2-405b-8d78-947c0b98e462",
   "metadata": {},
   "outputs": [],
   "source": [
    "# Algumas importações relativos ao Spark que iremos usar daqui em diante\n",
    "\n",
    "import sys\n",
    "\n",
    "from pyspark.sql import SparkSession\n",
    "from pyspark.sql.functions import *\n",
    "from pyspark.sql.types import *\n",
    "\n",
    "from pyspark.ml import Pipeline\n",
    "from pyspark.ml.stat import Correlation\n",
    "from pyspark.ml.feature import Imputer, VectorAssembler\n",
    "from pyspark.ml.regression import LinearRegression\n",
    "from pyspark.ml.evaluation import RegressionEvaluator"
   ]
  },
  {
   "cell_type": "code",
   "execution_count": 3,
   "id": "d01dfa75-c7da-4c98-9f86-18a300ef9efa",
   "metadata": {},
   "outputs": [],
   "source": [
    "# Criação de uma sessão spark\n",
    "\n",
    "spark = SparkSession\\\n",
    "    .builder\\\n",
    "    .appName(\"AirBnB\")\\\n",
    "    .config(\"spark.sql.shuffle.partitions\",6)\\\n",
    "    .getOrCreate()"
   ]
  },
  {
   "cell_type": "code",
   "execution_count": 4,
   "id": "a7022694-cd0e-4e58-9584-132924386ae5",
   "metadata": {},
   "outputs": [
    {
     "name": "stderr",
     "output_type": "stream",
     "text": [
      "                                                                                \r"
     ]
    }
   ],
   "source": [
    "taxis_and_limosines_subamostra = spark.read.csv(\"/home/big/praticas/Trabalho_Grupo/taxis_and_limosines_subamostra\", header=\"true\", inferSchema=\"true\", sep=',')"
   ]
  },
  {
   "cell_type": "code",
   "execution_count": 7,
   "id": "a53903c2-2e60-46e2-876a-153b052a92d2",
   "metadata": {},
   "outputs": [
    {
     "name": "stdout",
     "output_type": "stream",
     "text": [
      "+--------------------+------------+\n",
      "|            features|total_amount|\n",
      "+--------------------+------------+\n",
      "|[7.7,1.0,22.5,4.6...|        27.6|\n",
      "|[3.5,1.0,13.5,3.0...|        17.5|\n",
      "|[2.5,1.0,10.0,3.1...|       13.65|\n",
      "+--------------------+------------+\n",
      "only showing top 3 rows\n",
      "\n"
     ]
    }
   ],
   "source": [
    "# Implementação do algoritmo utilizando os preditores mais correlacionados com a variável alvo\n",
    "\n",
    "vectorAssembler = VectorAssembler(inputCols = ['trip_distance', 'rate_code', 'fare_amount', 'tip_amount', 'tolls_amount', 'trip_duration'], outputCol = 'features')\n",
    "\n",
    "vhouse_df = vectorAssembler.transform(taxis_and_limosines_subamostra)\n",
    "\n",
    "vhouse_df = vhouse_df.select(['features', 'total_amount'])\n",
    "\n",
    "vhouse_df.show(3)"
   ]
  },
  {
   "cell_type": "code",
   "execution_count": 8,
   "id": "35f032cb-5f40-4f4f-a94e-33b59f9f32db",
   "metadata": {},
   "outputs": [],
   "source": [
    "splits = vhouse_df.randomSplit([0.7, 0.3])\n",
    "\n",
    "subamostra_treino = splits[0]\n",
    "\n",
    "subamostra_teste = splits[1]"
   ]
  },
  {
   "cell_type": "code",
   "execution_count": 9,
   "id": "5733d7b5-0b5e-434d-93b8-e7f7ea7332e7",
   "metadata": {},
   "outputs": [
    {
     "name": "stderr",
     "output_type": "stream",
     "text": [
      "22/04/09 09:29:11 WARN InstanceBuilder$NativeBLAS: Failed to load implementation from:dev.ludovic.netlib.blas.JNIBLAS\n",
      "22/04/09 09:29:11 WARN InstanceBuilder$NativeBLAS: Failed to load implementation from:dev.ludovic.netlib.blas.ForeignLinkerBLAS\n",
      "                                                                                \r"
     ]
    }
   ],
   "source": [
    "lr = LinearRegression(featuresCol = 'features', labelCol = 'total_amount', maxIter=10, regParam=0.3, elasticNetParam=0.8)\n",
    "lr_model = lr.fit(subamostra_treino)"
   ]
  },
  {
   "cell_type": "code",
   "execution_count": 10,
   "id": "36fe109d-2230-42d7-95db-17627b7bb9c0",
   "metadata": {},
   "outputs": [
    {
     "name": "stdout",
     "output_type": "stream",
     "text": [
      "RMSE: 1.091714\n",
      "r2: 0.992579\n"
     ]
    }
   ],
   "source": [
    "trainingSummary = lr_model.summary\n",
    "print(\"RMSE: %f\" % trainingSummary.rootMeanSquaredError)\n",
    "print(\"r2: %f\" % trainingSummary.r2)"
   ]
  },
  {
   "cell_type": "code",
   "execution_count": 13,
   "id": "7da1d87d-c82d-4c2b-972a-4795a08d8f2f",
   "metadata": {},
   "outputs": [
    {
     "name": "stdout",
     "output_type": "stream",
     "text": [
      "+-----------------+------------+--------------------+\n",
      "|       prediction|total_amount|            features|\n",
      "+-----------------+------------+--------------------+\n",
      "|4.048450648231834|         3.0|[0.0,1.0,2.5,0.0,...|\n",
      "| 4.04847057579203|         3.0|[0.0,1.0,2.5,0.0,...|\n",
      "| 4.04847057579203|         3.5|[0.0,1.0,2.5,0.0,...|\n",
      "|4.048490503352226|         3.0|[0.0,1.0,2.5,0.0,...|\n",
      "|4.048490503352226|         3.0|[0.0,1.0,2.5,0.0,...|\n",
      "+-----------------+------------+--------------------+\n",
      "only showing top 5 rows\n",
      "\n"
     ]
    },
    {
     "name": "stderr",
     "output_type": "stream",
     "text": [
      "[Stage 10:==========================================>             (12 + 4) / 16]\r"
     ]
    },
    {
     "name": "stdout",
     "output_type": "stream",
     "text": [
      "R quadrado sobre o conjunto de teste = 0.991596\n"
     ]
    },
    {
     "name": "stderr",
     "output_type": "stream",
     "text": [
      "                                                                                \r"
     ]
    }
   ],
   "source": [
    "# Avaliação da performance preditiva sobre o conjunto de teste\n",
    "\n",
    "lr_predictions = lr_model.transform(subamostra_teste)\n",
    "lr_predictions.select('prediction', 'total_amount', 'features').show(5)\n",
    "from pyspark.ml.evaluation import RegressionEvaluator\n",
    "lr_evaluator = RegressionEvaluator(predictionCol = 'prediction', \\\n",
    "                 labelCol= 'total_amount', metricName = 'r2')\n",
    "print('R quadrado sobre o conjunto de teste = %g' % lr_evaluator.evaluate(lr_predictions))"
   ]
  },
  {
   "cell_type": "code",
   "execution_count": 14,
   "id": "cee5cdc9-2931-46e1-a9ad-5bfe6019bab4",
   "metadata": {},
   "outputs": [
    {
     "name": "stderr",
     "output_type": "stream",
     "text": [
      "[Stage 12:==========================================>             (12 + 4) / 16]\r"
     ]
    },
    {
     "name": "stdout",
     "output_type": "stream",
     "text": [
      "Root Mean Squared Error (RMSE) no conjunto de treino = 1.18325\n"
     ]
    },
    {
     "name": "stderr",
     "output_type": "stream",
     "text": [
      "                                                                                \r"
     ]
    }
   ],
   "source": [
    "test_result = lr_model.evaluate(subamostra_teste)\n",
    "print('Root Mean Squared Error (RMSE) no conjunto de treino = %g' % test_result.rootMeanSquaredError)"
   ]
  },
  {
   "cell_type": "code",
   "execution_count": 19,
   "id": "11580c20-43d0-4a7a-8695-e6f835c9093a",
   "metadata": {},
   "outputs": [
    {
     "name": "stderr",
     "output_type": "stream",
     "text": [
      "[Stage 15:>                                                         (0 + 1) / 1]\r"
     ]
    },
    {
     "name": "stdout",
     "output_type": "stream",
     "text": [
      "+-----------------+------------+--------------------+\n",
      "|       prediction|total_amount|            features|\n",
      "+-----------------+------------+--------------------+\n",
      "|4.048450648231834|         3.0|[0.0,1.0,2.5,0.0,...|\n",
      "| 4.04847057579203|         3.0|[0.0,1.0,2.5,0.0,...|\n",
      "| 4.04847057579203|         3.5|[0.0,1.0,2.5,0.0,...|\n",
      "|4.048490503352226|         3.0|[0.0,1.0,2.5,0.0,...|\n",
      "|4.048490503352226|         3.0|[0.0,1.0,2.5,0.0,...|\n",
      "|4.048490503352226|         3.0|[0.0,1.0,2.5,0.0,...|\n",
      "|4.048490503352226|         3.0|[0.0,1.0,2.5,0.0,...|\n",
      "|4.048490503352226|         3.0|[0.0,1.0,2.5,0.0,...|\n",
      "|4.048490503352226|         3.0|[0.0,1.0,2.5,0.0,...|\n",
      "|4.048490503352226|         3.0|[0.0,1.0,2.5,0.0,...|\n",
      "|4.048490503352226|         3.5|[0.0,1.0,2.5,0.0,...|\n",
      "|4.048490503352226|         3.5|[0.0,1.0,2.5,0.0,...|\n",
      "|4.048490503352226|         3.5|[0.0,1.0,2.5,0.0,...|\n",
      "|4.048510430912422|         3.0|[0.0,1.0,2.5,0.0,...|\n",
      "|4.048510430912422|         3.0|[0.0,1.0,2.5,0.0,...|\n",
      "|4.048510430912422|         3.5|[0.0,1.0,2.5,0.0,...|\n",
      "|4.048510430912422|         4.0|[0.0,1.0,2.5,0.0,...|\n",
      "|4.048510430912422|         4.0|[0.0,1.0,2.5,0.0,...|\n",
      "|4.048510430912422|         4.0|[0.0,1.0,2.5,0.0,...|\n",
      "|4.048530358472617|         3.0|[0.0,1.0,2.5,0.0,...|\n",
      "+-----------------+------------+--------------------+\n",
      "only showing top 20 rows\n",
      "\n"
     ]
    },
    {
     "name": "stderr",
     "output_type": "stream",
     "text": [
      "                                                                                \r"
     ]
    }
   ],
   "source": [
    "predictions = lr_model.transform(subamostra_teste)\n",
    "predictions.select('prediction', 'total_amount','features').show()"
   ]
  }
 ],
 "metadata": {
  "kernelspec": {
   "display_name": "PySpark",
   "language": "python",
   "name": "pyspark"
  },
  "language_info": {
   "codemirror_mode": {
    "name": "ipython",
    "version": 3
   },
   "file_extension": ".py",
   "mimetype": "text/x-python",
   "name": "python",
   "nbconvert_exporter": "python",
   "pygments_lexer": "ipython3",
   "version": "3.8.10"
  }
 },
 "nbformat": 4,
 "nbformat_minor": 5
}
