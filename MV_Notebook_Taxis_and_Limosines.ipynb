{
 "cells": [
  {
   "cell_type": "code",
   "execution_count": 81,
   "id": "b01eaaf9-24c4-4c2d-bf45-85e71aeda124",
   "metadata": {},
   "outputs": [],
   "source": [
    "# Importação das bibliotecas necessárias\n",
    "\n",
    "import boto3\n",
    "from botocore import UNSIGNED\n",
    "from botocore.client import Config\n",
    "import pandas as pd\n",
    "import numpy as np\n",
    "import seaborn as sns\n",
    "import datetime as dt\n",
    "import matplotlib.pyplot as plt\n",
    "from pyspark.ml.feature import VectorAssembler\n",
    "from pyspark.ml.regression import LinearRegression"
   ]
  },
  {
   "cell_type": "code",
   "execution_count": 3,
   "id": "7a267560-f74f-4ac7-bc5b-a6aec87cd83f",
   "metadata": {},
   "outputs": [],
   "source": [
    "s3 = boto3.resource(\"s3\", config=Config(signature_version=UNSIGNED))"
   ]
  },
  {
   "cell_type": "code",
   "execution_count": 4,
   "id": "fac191e0-08e6-479f-8739-6f57594d91c4",
   "metadata": {
    "tags": []
   },
   "outputs": [],
   "source": [
    "s3_bucket = s3.Bucket('nyc-tlc')"
   ]
  },
  {
   "cell_type": "code",
   "execution_count": 5,
   "id": "04b8d6b9-3741-4d4f-86cf-1877a7fc1033",
   "metadata": {},
   "outputs": [
    {
     "name": "stdout",
     "output_type": "stream",
     "text": [
      "trip data/yellow_tripdata_2009-01.csv 2.3637942634522915\n",
      "trip data/yellow_tripdata_2009-02.csv 2.249560944736004\n",
      "trip data/yellow_tripdata_2009-03.csv 2.4210419980809093\n",
      "trip data/yellow_tripdata_2009-04.csv 2.406269527040422\n",
      "trip data/yellow_tripdata_2009-05.csv 2.491463811136782\n",
      "trip data/yellow_tripdata_2009-06.csv 2.394559129141271\n",
      "trip data/yellow_tripdata_2009-07.csv 2.3006204795092344\n",
      "trip data/yellow_tripdata_2009-08.csv 2.310441732406616\n",
      "trip data/yellow_tripdata_2009-09.csv 2.360710578970611\n",
      "trip data/yellow_tripdata_2009-10.csv 2.637480964884162\n",
      "trip data/yellow_tripdata_2009-11.csv 2.444788286462426\n",
      "trip data/yellow_tripdata_2009-12.csv 2.497821459546685\n",
      "trip data/yellow_tripdata_2010-01.csv 2.540702736005187\n",
      "trip data/yellow_tripdata_2010-02.csv 1.9072604440152645\n",
      "trip data/yellow_tripdata_2010-03.csv 2.2041680850088596\n",
      "trip data/yellow_tripdata_2010-04.csv 2.5867342930287123\n",
      "trip data/yellow_tripdata_2010-05.csv 2.644806300289929\n",
      "trip data/yellow_tripdata_2010-06.csv 2.533311645500362\n",
      "trip data/yellow_tripdata_2010-07.csv 2.5039727594703436\n",
      "trip data/yellow_tripdata_2010-08.csv 2.13827589340508\n",
      "trip data/yellow_tripdata_2010-09.csv 2.658524563536048\n",
      "trip data/yellow_tripdata_2010-10.csv 2.4292379897087812\n",
      "trip data/yellow_tripdata_2010-11.csv 2.3779778499156237\n",
      "trip data/yellow_tripdata_2010-12.csv 2.362235799431801\n",
      "trip data/yellow_tripdata_2011-01.csv 2.3046080265194178\n",
      "trip data/yellow_tripdata_2011-02.csv 2.4255120931193233\n",
      "trip data/yellow_tripdata_2011-03.csv 2.746128797531128\n",
      "trip data/yellow_tripdata_2011-04.csv 2.5176544673740864\n",
      "trip data/yellow_tripdata_2011-05.csv 2.6636097356677055\n",
      "trip data/yellow_tripdata_2011-06.csv 2.5855863811448216\n",
      "trip data/yellow_tripdata_2011-07.csv 2.522386613301933\n",
      "trip data/yellow_tripdata_2011-08.csv 2.2658982882276177\n",
      "trip data/yellow_tripdata_2011-09.csv 2.497904699295759\n",
      "trip data/yellow_tripdata_2011-10.csv 2.6866614799946547\n",
      "trip data/yellow_tripdata_2011-11.csv 2.4851463064551353\n",
      "trip data/yellow_tripdata_2011-12.csv 2.5523328203707933\n",
      "trip data/yellow_tripdata_2012-01.csv 2.569674619473517\n",
      "trip data/yellow_tripdata_2012-02.csv 2.587220066227019\n",
      "trip data/yellow_tripdata_2012-03.csv 2.78923886269331\n",
      "trip data/yellow_tripdata_2012-04.csv 2.672503834590316\n",
      "trip data/yellow_tripdata_2012-05.csv 2.6873442512005568\n",
      "trip data/yellow_tripdata_2012-06.csv 2.607397820800543\n",
      "trip data/yellow_tripdata_2012-07.csv 2.48347897734493\n",
      "trip data/yellow_tripdata_2012-08.csv 2.4828965924680233\n",
      "trip data/yellow_tripdata_2012-09.csv 2.2830615006387234\n",
      "trip data/yellow_tripdata_2012-10.csv 2.2603544322773814\n",
      "trip data/yellow_tripdata_2012-11.csv 2.141233654692769\n",
      "trip data/yellow_tripdata_2012-12.csv 2.2858635978773236\n",
      "trip data/yellow_tripdata_2013-01.csv 2.3025567354634404\n",
      "trip data/yellow_tripdata_2013-02.csv 2.1833752496168017\n",
      "trip data/yellow_tripdata_2013-03.csv 2.4585155537351966\n",
      "trip data/yellow_tripdata_2013-04.csv 2.359441331587732\n",
      "trip data/yellow_tripdata_2013-05.csv 2.389049124903977\n",
      "trip data/yellow_tripdata_2013-06.csv 2.2512563690543175\n",
      "trip data/yellow_tripdata_2013-07.csv 2.162877509370446\n",
      "trip data/yellow_tripdata_2013-08.csv 1.9585753744468093\n",
      "trip data/yellow_tripdata_2013-09.csv 2.2169160339981318\n",
      "trip data/yellow_tripdata_2013-10.csv 2.3589817425236106\n",
      "trip data/yellow_tripdata_2013-11.csv 2.2542147589847445\n",
      "trip data/yellow_tripdata_2013-12.csv 2.188821711577475\n",
      "trip data/yellow_tripdata_2014-01.csv 2.1651546116918325\n",
      "trip data/yellow_tripdata_2014-02.csv 2.053995603695512\n",
      "trip data/yellow_tripdata_2014-03.csv 2.4252057457342744\n",
      "trip data/yellow_tripdata_2014-04.csv 2.2941263876855373\n",
      "trip data/yellow_tripdata_2014-05.csv 2.318017277866602\n",
      "trip data/yellow_tripdata_2014-06.csv 2.166461748071015\n",
      "trip data/yellow_tripdata_2014-07.csv 2.053196206688881\n",
      "trip data/yellow_tripdata_2014-08.csv 1.9873832995072007\n",
      "trip data/yellow_tripdata_2014-09.csv 2.1048540007323027\n",
      "trip data/yellow_tripdata_2014-10.csv 2.243757794611156\n",
      "trip data/yellow_tripdata_2014-11.csv 2.0816632453352213\n",
      "trip data/yellow_tripdata_2014-12.csv 2.0476720854640007\n",
      "trip data/yellow_tripdata_2015-01.csv 1.8495737500488758\n",
      "trip data/yellow_tripdata_2015-02.csv 1.8117554690688848\n",
      "trip data/yellow_tripdata_2015-03.csv 1.9445752669125795\n",
      "trip data/yellow_tripdata_2015-04.csv 1.905696247704327\n",
      "trip data/yellow_tripdata_2015-05.csv 1.9202652582898736\n",
      "trip data/yellow_tripdata_2015-06.csv 1.7993611814454198\n",
      "trip data/yellow_tripdata_2015-10.csv 1.7988131633028388\n",
      "trip data/yellow_tripdata_2016-03.csv 1.7831751676276326\n",
      "trip data/yellow_tripdata_2016-04.csv 1.7434507422149181\n",
      "trip data/yellow_tripdata_2016-05.csv 1.7308877734467387\n"
     ]
    }
   ],
   "source": [
    "# Ficheiros presentes no dataset\n",
    "\n",
    "for my_bucket_object in s3_bucket.objects.all():\n",
    "    if (my_bucket_object.size/1024/1024/1024) > 1.7:\n",
    "     print(my_bucket_object.key, my_bucket_object.size/1024/1024/1024)"
   ]
  },
  {
   "cell_type": "code",
   "execution_count": 20,
   "id": "cadbc05e-cfe8-4e7d-8a91-f6c97c667cb2",
   "metadata": {},
   "outputs": [],
   "source": [
    "# Transferência dos dados relativos ao mês de julho de 2014\n",
    "\n",
    "s3_bucket.download_file('trip data/yellow_tripdata_2014-07.csv', 'Dataset Taxis and Limosines/julho_2014.csv')"
   ]
  },
  {
   "cell_type": "code",
   "execution_count": 21,
   "id": "85eebb55-2be2-440b-9bbb-c706f69c9cbe",
   "metadata": {},
   "outputs": [],
   "source": [
    "# Transferência dos dados relativos ao mês de agosto de 2014\n",
    "\n",
    "s3_bucket.download_file('trip data/yellow_tripdata_2014-08.csv', 'Dataset Taxis and Limosines/agosto_2014.csv')"
   ]
  },
  {
   "cell_type": "code",
   "execution_count": 6,
   "id": "63c591bf-032a-454e-8caa-b82f6f32bcda",
   "metadata": {},
   "outputs": [],
   "source": [
    "# Algumas importações relativos ao Spark que iremos usar daqui em diante\n",
    "\n",
    "import sys\n",
    "\n",
    "from pyspark.sql import SparkSession\n",
    "from pyspark.sql.functions import *\n",
    "from pyspark.sql.types import *\n",
    "\n",
    "from pyspark.ml import Pipeline\n",
    "from pyspark.ml.stat import Correlation\n",
    "from pyspark.ml.feature import Imputer, VectorAssembler\n",
    "from pyspark.ml.regression import LinearRegression\n",
    "from pyspark.ml.evaluation import RegressionEvaluator"
   ]
  },
  {
   "cell_type": "code",
   "execution_count": 7,
   "id": "9c38cc6a-260a-4ef7-aa87-2d61c1a4c555",
   "metadata": {},
   "outputs": [],
   "source": [
    "# Criação de uma sessão spark\n",
    "\n",
    "spark = SparkSession\\\n",
    "    .builder\\\n",
    "    .appName(\"AirBnB\")\\\n",
    "    .config(\"spark.sql.shuffle.partitions\",6)\\\n",
    "    .getOrCreate()"
   ]
  },
  {
   "cell_type": "code",
   "execution_count": 8,
   "id": "1cf90c3e-d550-4f49-9aef-7b62790bfe1c",
   "metadata": {},
   "outputs": [
    {
     "name": "stdout",
     "output_type": "stream",
     "text": [
      "/home/big/praticas/Trabalho_Grupo\n"
     ]
    }
   ],
   "source": [
    "# Ver o caminho para a pasta contendo o dataset\n",
    "\n",
    "! pwd"
   ]
  },
  {
   "cell_type": "code",
   "execution_count": 9,
   "id": "6955aa24-ee03-40a1-b590-5e695b20efb5",
   "metadata": {},
   "outputs": [
    {
     "name": "stderr",
     "output_type": "stream",
     "text": [
      "                                                                                \r"
     ]
    }
   ],
   "source": [
    "# Ler o dataset\n",
    "\n",
    "taxis_and_limosines = spark.read.csv('/home/big/praticas/Trabalho_Grupo/Dataset Taxis and Limosines', header=\"true\", inferSchema=\"true\", sep=',')"
   ]
  },
  {
   "cell_type": "code",
   "execution_count": 10,
   "id": "e0622895-d8af-4226-b134-87ec4e892687",
   "metadata": {},
   "outputs": [
    {
     "name": "stdout",
     "output_type": "stream",
     "text": [
      "-RECORD 0----------------------------------\n",
      " vendor_id           | CMT                 \n",
      "  pickup_datetime    | 2014-07-10 10:07:55 \n",
      "  dropoff_datetime   | 2014-07-10 10:16:19 \n",
      "  passenger_count    | 1                   \n",
      "  trip_distance      | 1.2                 \n",
      "  pickup_longitude   | -73.981241          \n",
      "  pickup_latitude    | 40.781829           \n",
      "  rate_code          | 1                   \n",
      "  store_and_fwd_flag | N                   \n",
      "  dropoff_longitude  | -73.974051          \n",
      "  dropoff_latitude   | 40.78732            \n",
      "  payment_type       | CSH                 \n",
      "  fare_amount        | 7.5                 \n",
      "  surcharge          | 0.0                 \n",
      "  mta_tax            | 0.5                 \n",
      "  tip_amount         | 0.0                 \n",
      "  tolls_amount       | 0.0                 \n",
      "  total_amount       | 8.0                 \n",
      "-RECORD 1----------------------------------\n",
      " vendor_id           | CMT                 \n",
      "  pickup_datetime    | 2014-07-10 09:06:52 \n",
      "  dropoff_datetime   | 2014-07-10 09:36:36 \n",
      "  passenger_count    | 1                   \n",
      "  trip_distance      | 3.4                 \n",
      "  pickup_longitude   | -74.000953          \n",
      "  pickup_latitude    | 40.733972           \n",
      "  rate_code          | 1                   \n",
      "  store_and_fwd_flag | N                   \n",
      "  dropoff_longitude  | -73.970544          \n",
      "  dropoff_latitude   | 40.764482           \n",
      "  payment_type       | CSH                 \n",
      "  fare_amount        | 19.0                \n",
      "  surcharge          | 0.0                 \n",
      "  mta_tax            | 0.5                 \n",
      "  tip_amount         | 0.0                 \n",
      "  tolls_amount       | 0.0                 \n",
      "  total_amount       | 19.5                \n",
      "-RECORD 2----------------------------------\n",
      " vendor_id           | CMT                 \n",
      "  pickup_datetime    | 2014-07-10 10:37:55 \n",
      "  dropoff_datetime   | 2014-07-10 10:49:25 \n",
      "  passenger_count    | 1                   \n",
      "  trip_distance      | 1.0                 \n",
      "  pickup_longitude   | -74.006417          \n",
      "  pickup_latitude    | 40.7332             \n",
      "  rate_code          | 1                   \n",
      "  store_and_fwd_flag | N                   \n",
      "  dropoff_longitude  | -73.999509          \n",
      "  dropoff_latitude   | 40.723267           \n",
      "  payment_type       | CSH                 \n",
      "  fare_amount        | 8.5                 \n",
      "  surcharge          | 0.0                 \n",
      "  mta_tax            | 0.5                 \n",
      "  tip_amount         | 0.0                 \n",
      "  tolls_amount       | 0.0                 \n",
      "  total_amount       | 9.0                 \n",
      "-RECORD 3----------------------------------\n",
      " vendor_id           | CMT                 \n",
      "  pickup_datetime    | 2014-07-10 12:43:30 \n",
      "  dropoff_datetime   | 2014-07-10 12:47:15 \n",
      "  passenger_count    | 1                   \n",
      "  trip_distance      | 0.7                 \n",
      "  pickup_longitude   | -73.981445          \n",
      "  pickup_latitude    | 40.780761           \n",
      "  rate_code          | 1                   \n",
      "  store_and_fwd_flag | N                   \n",
      "  dropoff_longitude  | -73.974931          \n",
      "  dropoff_latitude   | 40.788042           \n",
      "  payment_type       | CSH                 \n",
      "  fare_amount        | 5.0                 \n",
      "  surcharge          | 0.0                 \n",
      "  mta_tax            | 0.5                 \n",
      "  tip_amount         | 0.0                 \n",
      "  tolls_amount       | 0.0                 \n",
      "  total_amount       | 5.5                 \n",
      "-RECORD 4----------------------------------\n",
      " vendor_id           | CMT                 \n",
      "  pickup_datetime    | 2014-07-10 07:51:07 \n",
      "  dropoff_datetime   | 2014-07-10 07:57:56 \n",
      "  passenger_count    | 1                   \n",
      "  trip_distance      | 1.1                 \n",
      "  pickup_longitude   | -74.013998          \n",
      "  pickup_latitude    | 40.713855           \n",
      "  rate_code          | 1                   \n",
      "  store_and_fwd_flag | N                   \n",
      "  dropoff_longitude  | -74.012623          \n",
      "  dropoff_latitude   | 40.702553           \n",
      "  payment_type       | CSH                 \n",
      "  fare_amount        | 6.5                 \n",
      "  surcharge          | 0.0                 \n",
      "  mta_tax            | 0.5                 \n",
      "  tip_amount         | 0.0                 \n",
      "  tolls_amount       | 0.0                 \n",
      "  total_amount       | 7.0                 \n",
      "only showing top 5 rows\n",
      "\n",
      "root\n",
      " |-- vendor_id: string (nullable = true)\n",
      " |--  pickup_datetime: string (nullable = true)\n",
      " |--  dropoff_datetime: string (nullable = true)\n",
      " |--  passenger_count: integer (nullable = true)\n",
      " |--  trip_distance: double (nullable = true)\n",
      " |--  pickup_longitude: double (nullable = true)\n",
      " |--  pickup_latitude: double (nullable = true)\n",
      " |--  rate_code: integer (nullable = true)\n",
      " |--  store_and_fwd_flag: string (nullable = true)\n",
      " |--  dropoff_longitude: double (nullable = true)\n",
      " |--  dropoff_latitude: double (nullable = true)\n",
      " |--  payment_type: string (nullable = true)\n",
      " |--  fare_amount: double (nullable = true)\n",
      " |--  surcharge: double (nullable = true)\n",
      " |--  mta_tax: double (nullable = true)\n",
      " |--  tip_amount: double (nullable = true)\n",
      " |--  tolls_amount: double (nullable = true)\n",
      " |--  total_amount: double (nullable = true)\n",
      "\n"
     ]
    },
    {
     "name": "stderr",
     "output_type": "stream",
     "text": [
      "                                                                                \r"
     ]
    },
    {
     "data": {
      "text/plain": [
       "25795242"
      ]
     },
     "execution_count": 10,
     "metadata": {},
     "output_type": "execute_result"
    }
   ],
   "source": [
    "# Informações sobre os dados - 5 primeiras linhas, o esquema e o número total de registos\n",
    "\n",
    "taxis_and_limosines.show(5, vertical = True)\n",
    "taxis_and_limosines.printSchema()\n",
    "taxis_and_limosines.count()"
   ]
  },
  {
   "cell_type": "code",
   "execution_count": null,
   "id": "2b64b23e-fbac-46e0-804a-a563ab5e3e0b",
   "metadata": {},
   "outputs": [],
   "source": [
    "# Significado das colunas:\n",
    "\n",
    "# vendor_id - Um código em string indicando o provedor associado ao registo de viagem\n",
    "# pickup_datetime - Data do início da viagem\n",
    "# dropoff_datetime - Data do fim da viagem\n",
    "# passenger_count - Número de passageiros da viagem\n",
    "# trip_distance - Distância da viagem\n",
    "# pickup_longitude - Longitude do sítio de início da viagem\n",
    "# pickup_latitude - Latitude do sítio de início da viagem\n",
    "# rate_code - Tarifa da rota\n",
    "# store_and_fwd_flag - Se o registo da viagem foi guardado na memória do veículo antes de ter sido enviado para o provedor\n",
    "# dropoff_longitude - Longitude do fim da viagem\n",
    "# dropoff_latitude - Latitude do fim da viagem\n",
    "# payment_type - Tipo de pagamento \n",
    "# fare_amount - Valor das tarifas da viagem\n",
    "# surcharge - Valor das sobretaxas da viagem\n",
    "# mta_tax - Imposto cobrado a serviços prestados da área dos transportes\n",
    "# tip_amount - Valor da gorjeta\n",
    "# tolls_amount - Valor das portagens da viagem\n",
    "# total_amount - Total pago pela viagem"
   ]
  },
  {
   "cell_type": "code",
   "execution_count": 11,
   "id": "3729fb77-9756-4d8a-8a39-9ac768d7e49b",
   "metadata": {},
   "outputs": [
    {
     "name": "stderr",
     "output_type": "stream",
     "text": [
      "                                                                                \r"
     ]
    },
    {
     "data": {
      "text/plain": [
       "[25795242, 12484250]"
      ]
     },
     "execution_count": 11,
     "metadata": {},
     "output_type": "execute_result"
    }
   ],
   "source": [
    "# Vamos ver se existem NULLS\n",
    "\n",
    "[taxis_and_limosines.count(), taxis_and_limosines.dropna().count()]\n",
    "\n",
    "# Quase metade das linhas do dataset inteiro têm pelo menos um registo NULL"
   ]
  },
  {
   "cell_type": "code",
   "execution_count": 12,
   "id": "fedc4a32-42ba-464f-a0e7-5a1abd994a78",
   "metadata": {},
   "outputs": [
    {
     "name": "stderr",
     "output_type": "stream",
     "text": [
      "                                                                                \r"
     ]
    },
    {
     "data": {
      "text/plain": [
       "1269809"
      ]
     },
     "execution_count": 12,
     "metadata": {},
     "output_type": "execute_result"
    }
   ],
   "source": [
    "# Definição de uma subamostra por questões de produtividade para tarefas intesivas e frequentes\n",
    "\n",
    "# Escolheu-se uma subamostra que seja corresponda a 10% dos dados referentes ao mês de agosto\n",
    "\n",
    "# Ler o ficheiro apenas referente ao mês de agosto\n",
    "\n",
    "taxis_and_limosines_agosto =  spark.read.csv('/home/big/praticas/Trabalho_Grupo/Dataset Taxis and Limosines/agosto_2014.csv', header=\"true\", inferSchema=\"true\", sep=',')\n",
    "\n",
    "# Número de linhas deste ficheiro\n",
    "\n",
    "taxis_and_limosines_agosto.count()\n",
    "\n",
    "# Subamostra\n",
    "\n",
    "taxis_and_limosines_subamostra = taxis_and_limosines_agosto.sample(False, fraction = 0.10)\n",
    "\n",
    "taxis_and_limosines_subamostra.count()"
   ]
  },
  {
   "cell_type": "code",
   "execution_count": 13,
   "id": "630a8e6c-bede-495b-9079-913ed99bba5c",
   "metadata": {},
   "outputs": [],
   "source": [
    "# Adição da variável Trip Duration à subamostra para efeitos de implementação do algoritmo\n",
    "\n",
    "taxis_and_limosines_subamostra = taxis_and_limosines_subamostra.withColumn(' pickup_datetime', to_timestamp(\" pickup_datetime\",\"yyyy-MM-dd HH:mm:ss\"))\n",
    "taxis_and_limosines_subamostra = taxis_and_limosines_subamostra.withColumn(' dropoff_datetime',to_timestamp(\" dropoff_datetime\",\"yyyy-MM-dd HH:mm:ss\"))\n",
    "taxis_and_limosines_subamostra = taxis_and_limosines_subamostra.withColumn(' trip_duration',col(\" dropoff_datetime\").cast(\"long\") - col(' pickup_datetime').cast(\"long\"))"
   ]
  },
  {
   "cell_type": "code",
   "execution_count": 14,
   "id": "942d2c70-e052-4838-9afe-f1ab6e480737",
   "metadata": {},
   "outputs": [
    {
     "name": "stderr",
     "output_type": "stream",
     "text": [
      "[Stage 20:====================================================>   (15 + 1) / 16]\r"
     ]
    },
    {
     "name": "stdout",
     "output_type": "stream",
     "text": [
      "+----------+\n",
      "| rate_code|\n",
      "+----------+\n",
      "|         2|\n",
      "|         5|\n",
      "|         4|\n",
      "|         1|\n",
      "|         6|\n",
      "|         3|\n",
      "|         0|\n",
      "+----------+\n",
      "\n"
     ]
    },
    {
     "name": "stderr",
     "output_type": "stream",
     "text": [
      "                                                                                \r"
     ]
    }
   ],
   "source": [
    "# Valores na coluna rate_count\n",
    "\n",
    "taxis_and_limosines_subamostra.select(taxis_and_limosines.columns[7]).distinct().show()"
   ]
  },
  {
   "cell_type": "code",
   "execution_count": 15,
   "id": "7e9089a6-e67e-4d77-8d73-2ef9998f7b60",
   "metadata": {},
   "outputs": [],
   "source": [
    "# Existem valores inválidos no dataset para esta coluna (rate_code), vamos eliminá-los caso apareçam na nossa subamostra\n",
    "\n",
    "taxis_and_limosines_subamostra = taxis_and_limosines_subamostra[taxis_and_limosines_subamostra[' rate_code'] < 7]"
   ]
  },
  {
   "cell_type": "code",
   "execution_count": 16,
   "id": "fe356d28-5e65-49a1-b0fa-6ecea2cd76a6",
   "metadata": {},
   "outputs": [
    {
     "name": "stderr",
     "output_type": "stream",
     "text": [
      "[Stage 23:=============================================>          (13 + 3) / 16]\r"
     ]
    },
    {
     "name": "stdout",
     "output_type": "stream",
     "text": [
      "+-------------+\n",
      "| payment_type|\n",
      "+-------------+\n",
      "|          DIS|\n",
      "|          UNK|\n",
      "|          CRD|\n",
      "|          CSH|\n",
      "|          NOC|\n",
      "+-------------+\n",
      "\n"
     ]
    },
    {
     "name": "stderr",
     "output_type": "stream",
     "text": [
      "                                                                                \r"
     ]
    }
   ],
   "source": [
    "# Diferentes tipos de pagamento utilizados\n",
    "\n",
    "taxis_and_limosines_subamostra.select(taxis_and_limosines.columns[11]).distinct().show()"
   ]
  },
  {
   "cell_type": "code",
   "execution_count": 17,
   "id": "8c9c42bd-68bb-4b57-a86c-4c44106153eb",
   "metadata": {},
   "outputs": [
    {
     "name": "stderr",
     "output_type": "stream",
     "text": [
      "[Stage 26:====================================================>   (15 + 1) / 16]\r"
     ]
    },
    {
     "name": "stdout",
     "output_type": "stream",
     "text": [
      "+----------------+\n",
      "| passenger_count|\n",
      "+----------------+\n",
      "|               0|\n",
      "|               1|\n",
      "|               2|\n",
      "|               3|\n",
      "|               4|\n",
      "|               5|\n",
      "|               6|\n",
      "|               9|\n",
      "+----------------+\n",
      "\n"
     ]
    },
    {
     "name": "stderr",
     "output_type": "stream",
     "text": [
      "                                                                                \r"
     ]
    }
   ],
   "source": [
    "# Informação relevante sobre a coluna_passenger\n",
    "\n",
    "taxis_and_limosines_subamostra.select(taxis_and_limosines.columns[3]).distinct().sort(taxis_and_limosines.columns[3]).show()"
   ]
  },
  {
   "cell_type": "code",
   "execution_count": 18,
   "id": "4f928f76-af9c-48bc-9a00-fec8bd636b47",
   "metadata": {},
   "outputs": [
    {
     "name": "stderr",
     "output_type": "stream",
     "text": [
      "[Stage 29:====================================================>   (15 + 1) / 16]\r"
     ]
    },
    {
     "name": "stdout",
     "output_type": "stream",
     "text": [
      "-RECORD 0---------------------\n",
      "  store_and_fwd_flag | null   \n",
      " count               | 658563 \n",
      "-RECORD 1---------------------\n",
      "  store_and_fwd_flag | N      \n",
      " count               | 598608 \n",
      "-RECORD 2---------------------\n",
      "  store_and_fwd_flag | Y      \n",
      " count               | 12638  \n",
      "\n"
     ]
    },
    {
     "name": "stderr",
     "output_type": "stream",
     "text": [
      "                                                                                \r"
     ]
    }
   ],
   "source": [
    "# Informação relevante sobre a coluna store_and_fwd_flag\n",
    "\n",
    "taxis_and_limosines_subamostra.groupBy(taxis_and_limosines.columns[8]).count().show(vertical=True)"
   ]
  },
  {
   "cell_type": "code",
   "execution_count": 99,
   "id": "5d53a407-6582-46a7-9ccd-ff14f4cb61e2",
   "metadata": {},
   "outputs": [
    {
     "name": "stderr",
     "output_type": "stream",
     "text": [
      "                                                                                \r"
     ]
    },
    {
     "name": "stdout",
     "output_type": "stream",
     "text": [
      "+-------+---------+\n",
      "|summary|vendor_id|\n",
      "+-------+---------+\n",
      "|  count|  1261301|\n",
      "|   mean|     null|\n",
      "| stddev|     null|\n",
      "|    min|      CMT|\n",
      "|    max|      VTS|\n",
      "+-------+---------+\n",
      "\n",
      "+-------+\n",
      "|summary|\n",
      "+-------+\n",
      "|  count|\n",
      "|   mean|\n",
      "| stddev|\n",
      "|    min|\n",
      "|    max|\n",
      "+-------+\n",
      "\n",
      "+-------+\n",
      "|summary|\n",
      "+-------+\n",
      "|  count|\n",
      "|   mean|\n",
      "| stddev|\n",
      "|    min|\n",
      "|    max|\n",
      "+-------+\n",
      "\n"
     ]
    },
    {
     "name": "stderr",
     "output_type": "stream",
     "text": [
      "                                                                                \r"
     ]
    },
    {
     "name": "stdout",
     "output_type": "stream",
     "text": [
      "+-------+------------------+\n",
      "|summary|   passenger_count|\n",
      "+-------+------------------+\n",
      "|  count|           1261301|\n",
      "|   mean| 1.711297303339964|\n",
      "| stddev|1.3604214277423146|\n",
      "|    min|                 0|\n",
      "|    max|                 9|\n",
      "+-------+------------------+\n",
      "\n"
     ]
    },
    {
     "name": "stderr",
     "output_type": "stream",
     "text": [
      "                                                                                \r"
     ]
    },
    {
     "name": "stdout",
     "output_type": "stream",
     "text": [
      "+-------+------------------+\n",
      "|summary|     trip_distance|\n",
      "+-------+------------------+\n",
      "|  count|           1261301|\n",
      "|   mean|3.0836510555371097|\n",
      "| stddev|3.6084849929493803|\n",
      "|    min|              0.01|\n",
      "|    max|              90.4|\n",
      "+-------+------------------+\n",
      "\n"
     ]
    },
    {
     "name": "stderr",
     "output_type": "stream",
     "text": [
      "                                                                                \r"
     ]
    },
    {
     "name": "stdout",
     "output_type": "stream",
     "text": [
      "+-------+------------------+\n",
      "|summary|  pickup_longitude|\n",
      "+-------+------------------+\n",
      "|  count|           1261301|\n",
      "|   mean|-72.09008828872435|\n",
      "| stddev|11.659093032698085|\n",
      "|    min|        -93.708367|\n",
      "|    max|        154.100756|\n",
      "+-------+------------------+\n",
      "\n"
     ]
    },
    {
     "name": "stderr",
     "output_type": "stream",
     "text": [
      "                                                                                \r"
     ]
    },
    {
     "name": "stdout",
     "output_type": "stream",
     "text": [
      "+-------+-----------------+\n",
      "|summary|  pickup_latitude|\n",
      "+-------+-----------------+\n",
      "|  count|          1261301|\n",
      "|   mean|39.71111436572311|\n",
      "| stddev|6.421036716136723|\n",
      "|    min|       -23.421967|\n",
      "|    max|        58.512415|\n",
      "+-------+-----------------+\n",
      "\n"
     ]
    },
    {
     "name": "stderr",
     "output_type": "stream",
     "text": [
      "                                                                                \r"
     ]
    },
    {
     "name": "stdout",
     "output_type": "stream",
     "text": [
      "+-------+-------------------+\n",
      "|summary|          rate_code|\n",
      "+-------+-------------------+\n",
      "|  count|            1261301|\n",
      "|   mean| 1.0310639569777555|\n",
      "| stddev|0.23183876636677006|\n",
      "|    min|                  0|\n",
      "|    max|                  6|\n",
      "+-------+-------------------+\n",
      "\n"
     ]
    },
    {
     "name": "stderr",
     "output_type": "stream",
     "text": [
      "                                                                                \r"
     ]
    },
    {
     "name": "stdout",
     "output_type": "stream",
     "text": [
      "+-------+-------------------+\n",
      "|summary| store_and_fwd_flag|\n",
      "+-------+-------------------+\n",
      "|  count|             606282|\n",
      "|   mean|               null|\n",
      "| stddev|               null|\n",
      "|    min|                  N|\n",
      "|    max|                  Y|\n",
      "+-------+-------------------+\n",
      "\n"
     ]
    },
    {
     "name": "stderr",
     "output_type": "stream",
     "text": [
      "                                                                                \r"
     ]
    },
    {
     "name": "stdout",
     "output_type": "stream",
     "text": [
      "+-------+------------------+\n",
      "|summary| dropoff_longitude|\n",
      "+-------+------------------+\n",
      "|  count|           1261301|\n",
      "|   mean|-72.23015520502157|\n",
      "| stddev|11.225723014664586|\n",
      "|    min|       -162.399191|\n",
      "|    max|        154.100756|\n",
      "+-------+------------------+\n",
      "\n"
     ]
    },
    {
     "name": "stderr",
     "output_type": "stream",
     "text": [
      "                                                                                \r"
     ]
    },
    {
     "name": "stdout",
     "output_type": "stream",
     "text": [
      "+-------+-----------------+\n",
      "|summary| dropoff_latitude|\n",
      "+-------+-----------------+\n",
      "|  count|          1261301|\n",
      "|   mean| 39.7892724942564|\n",
      "| stddev|6.183348052445368|\n",
      "|    min|       -23.421967|\n",
      "|    max|        62.208182|\n",
      "+-------+-----------------+\n",
      "\n"
     ]
    },
    {
     "name": "stderr",
     "output_type": "stream",
     "text": [
      "                                                                                \r"
     ]
    },
    {
     "name": "stdout",
     "output_type": "stream",
     "text": [
      "+-------+-------------+\n",
      "|summary| payment_type|\n",
      "+-------+-------------+\n",
      "|  count|      1261301|\n",
      "|   mean|         null|\n",
      "| stddev|         null|\n",
      "|    min|          CRD|\n",
      "|    max|          UNK|\n",
      "+-------+-------------+\n",
      "\n"
     ]
    },
    {
     "name": "stderr",
     "output_type": "stream",
     "text": [
      "                                                                                \r"
     ]
    },
    {
     "name": "stdout",
     "output_type": "stream",
     "text": [
      "+-------+------------------+\n",
      "|summary|       fare_amount|\n",
      "+-------+------------------+\n",
      "|  count|           1261301|\n",
      "|   mean|12.782188636970872|\n",
      "| stddev|10.423297465614677|\n",
      "|    min|               2.5|\n",
      "|    max|             500.0|\n",
      "+-------+------------------+\n",
      "\n"
     ]
    },
    {
     "name": "stderr",
     "output_type": "stream",
     "text": [
      "                                                                                \r"
     ]
    },
    {
     "name": "stdout",
     "output_type": "stream",
     "text": [
      "+-------+-------------------+\n",
      "|summary|          surcharge|\n",
      "+-------+-------------------+\n",
      "|  count|            1261301|\n",
      "|   mean| 0.3242264059094538|\n",
      "| stddev|0.35967529347790894|\n",
      "|    min|                0.0|\n",
      "|    max|               10.0|\n",
      "+-------+-------------------+\n",
      "\n"
     ]
    },
    {
     "name": "stderr",
     "output_type": "stream",
     "text": [
      "                                                                                \r"
     ]
    },
    {
     "name": "stdout",
     "output_type": "stream",
     "text": [
      "+-------+--------------------+\n",
      "|summary|             mta_tax|\n",
      "+-------+--------------------+\n",
      "|  count|             1261301|\n",
      "|   mean| 0.49856497378500453|\n",
      "| stddev|0.026747978886174792|\n",
      "|    min|                 0.0|\n",
      "|    max|                 0.5|\n",
      "+-------+--------------------+\n",
      "\n"
     ]
    },
    {
     "name": "stderr",
     "output_type": "stream",
     "text": [
      "                                                                                \r"
     ]
    },
    {
     "name": "stdout",
     "output_type": "stream",
     "text": [
      "+-------+------------------+\n",
      "|summary|        tip_amount|\n",
      "+-------+------------------+\n",
      "|  count|           1261301|\n",
      "|   mean|1.4685871096590095|\n",
      "| stddev|  2.26174124444934|\n",
      "|    min|               0.0|\n",
      "|    max|             150.0|\n",
      "+-------+------------------+\n",
      "\n"
     ]
    },
    {
     "name": "stderr",
     "output_type": "stream",
     "text": [
      "                                                                                \r"
     ]
    },
    {
     "name": "stdout",
     "output_type": "stream",
     "text": [
      "+-------+------------------+\n",
      "|summary|      tolls_amount|\n",
      "+-------+------------------+\n",
      "|  count|           1261301|\n",
      "|   mean|0.2904895025057675|\n",
      "| stddev|1.3028893939678319|\n",
      "|    min|               0.0|\n",
      "|    max|              20.0|\n",
      "+-------+------------------+\n",
      "\n"
     ]
    },
    {
     "name": "stderr",
     "output_type": "stream",
     "text": [
      "                                                                                \r"
     ]
    },
    {
     "name": "stdout",
     "output_type": "stream",
     "text": [
      "+-------+------------------+\n",
      "|summary|      total_amount|\n",
      "+-------+------------------+\n",
      "|  count|           1261301|\n",
      "|   mean| 15.36417558536777|\n",
      "| stddev|12.579660573350289|\n",
      "|    min|               2.5|\n",
      "|    max|             500.0|\n",
      "+-------+------------------+\n",
      "\n"
     ]
    },
    {
     "name": "stderr",
     "output_type": "stream",
     "text": [
      "[Stage 441:================================================>      (14 + 2) / 16]\r"
     ]
    },
    {
     "name": "stdout",
     "output_type": "stream",
     "text": [
      "+-------+-----------------+\n",
      "|summary|    trip_duration|\n",
      "+-------+-----------------+\n",
      "|  count|          1261301|\n",
      "|   mean|793.6758307493611|\n",
      "| stddev|601.0239219700204|\n",
      "|    min|                1|\n",
      "|    max|            33022|\n",
      "+-------+-----------------+\n",
      "\n"
     ]
    },
    {
     "name": "stderr",
     "output_type": "stream",
     "text": [
      "                                                                                \r"
     ]
    }
   ],
   "source": [
    "# Medidas descritivas para cada coluna\n",
    "\n",
    "for cl in taxis_and_limosines_subamostra.columns:\n",
    "    taxis_and_limosines_subamostra.describe(cl).show()"
   ]
  },
  {
   "cell_type": "code",
   "execution_count": 98,
   "id": "f6034473-09f0-4afa-b770-c31b3a3d8393",
   "metadata": {},
   "outputs": [],
   "source": [
    "# Eliminação dos valores incorretos da variável trip_duration e trip_distance\n",
    "\n",
    "taxis_and_limosines_subamostra = taxis_and_limosines_subamostra[taxis_and_limosines_subamostra[' trip_duration'] <= 36000]\n",
    "taxis_and_limosines_subamostra = taxis_and_limosines_subamostra[taxis_and_limosines_subamostra[' trip_duration'] > 0]\n",
    "taxis_and_limosines_subamostra = taxis_and_limosines_subamostra[taxis_and_limosines_subamostra[' trip_distance'] > 0]"
   ]
  },
  {
   "cell_type": "code",
   "execution_count": 22,
   "id": "05666dc9-4f6c-421c-aa15-37968dec760a",
   "metadata": {},
   "outputs": [
    {
     "name": "stderr",
     "output_type": "stream",
     "text": [
      "                                                                                \r"
     ]
    },
    {
     "name": "stdout",
     "output_type": "stream",
     "text": [
      "-RECORD 0-------------------------------------\n",
      "  payment_type         | DIS                  \n",
      " sum( passenger_count) | 1400                 \n",
      " sum( trip_distance)   | 3720.1               \n",
      " sum( fare_amount)     | 15735.27             \n",
      " sum( surcharge)       | 362.5                \n",
      " sum( mta_tax)         | 534.5                \n",
      " sum( tip_amount)      | 2.1                  \n",
      " sum( tolls_amount)    | 458.4299999999999    \n",
      " sum( total_amount)    | 17092.799999999996   \n",
      "-RECORD 1-------------------------------------\n",
      "  payment_type         | UNK                  \n",
      " sum( passenger_count) | 12039                \n",
      " sum( trip_distance)   | 16414.719999999998   \n",
      " sum( fare_amount)     | 69081.0              \n",
      " sum( surcharge)       | 1846.0               \n",
      " sum( mta_tax)         | 2862.0               \n",
      " sum( tip_amount)      | 12452.199999999999   \n",
      " sum( tolls_amount)    | 1166.1100000000001   \n",
      " sum( total_amount)    | 87407.30999999995    \n",
      "-RECORD 2-------------------------------------\n",
      "  payment_type         | CRD                  \n",
      " sum( passenger_count) | 1201148              \n",
      " sum( trip_distance)   | 2337410.1899999985   \n",
      " sum( fare_amount)     | 9602244.590000002    \n",
      " sum( surcharge)       | 237073.33000000002   \n",
      " sum( mta_tax)         | 356531.0             \n",
      " sum( tip_amount)      | 1849177.650000018    \n",
      " sum( tolls_amount)    | 244357.6400000024    \n",
      " sum( total_amount)    | 1.2289384209999882E7 \n",
      "-RECORD 3-------------------------------------\n",
      "  payment_type         | CSH                  \n",
      " sum( passenger_count) | 944917               \n",
      " sum( trip_distance)   | 1521976.0500000056   \n",
      " sum( fare_amount)     | 6470047.2700000005   \n",
      " sum( surcharge)       | 169428.25999999998   \n",
      " sum( mta_tax)         | 268996.0             \n",
      " sum( tip_amount)      | 118.04999999999998   \n",
      " sum( tolls_amount)    | 121351.94999999873   \n",
      " sum( total_amount)    | 7030091.570000001    \n",
      "-RECORD 4-------------------------------------\n",
      "  payment_type         | NOC                  \n",
      " sum( passenger_count) | 4468                 \n",
      " sum( trip_distance)   | 9891.1               \n",
      " sum( fare_amount)     | 45545.0              \n",
      " sum( surcharge)       | 1258.0               \n",
      " sum( mta_tax)         | 1731.0               \n",
      " sum( tip_amount)      | 16.58                \n",
      " sum( tolls_amount)    | 963.4700000000003    \n",
      " sum( total_amount)    | 49514.049999999996   \n",
      "\n"
     ]
    },
    {
     "name": "stderr",
     "output_type": "stream",
     "text": [
      "                                                                                \r"
     ]
    },
    {
     "name": "stdout",
     "output_type": "stream",
     "text": [
      "                              0         1            2           3         4\n",
      " payment_type               DIS       UNK          CRD         CSH       NOC\n",
      "sum( passenger_count)      1400     12039      1201148      944917      4468\n",
      "sum( trip_distance)      3720.1  16414.72   2337410.19  1521976.05    9891.1\n",
      "sum( fare_amount)      15735.27   69081.0   9602244.59  6470047.27   45545.0\n",
      "sum( surcharge)           362.5    1846.0    237073.33   169428.26    1258.0\n",
      "sum( mta_tax)             534.5    2862.0     356531.0    268996.0    1731.0\n",
      "sum( tip_amount)            2.1   12452.2   1849177.65      118.05     16.58\n",
      "sum( tolls_amount)       458.43   1166.11    244357.64   121351.95    963.47\n",
      "sum( total_amount)      17092.8  87407.31  12289384.21  7030091.57  49514.05\n"
     ]
    }
   ],
   "source": [
    "# Informação relevante sobre a coluna payment_type\n",
    "\n",
    "payment_method = taxis_and_limosines_subamostra.select(' passenger_count',' trip_distance',' fare_amount',' surcharge',\n",
    "                                                       ' mta_tax',' tip_amount',' tolls_amount', \n",
    "                                                       ' total_amount',' payment_type').groupBy(taxis_and_limosines.columns[11]).sum()\n",
    "\n",
    "payment_method.show(vertical=True)\n",
    "\n",
    "payment_method_pandas = payment_method.toPandas()\n",
    "\n",
    "payment_method_final = payment_method_pandas.transpose()\n",
    "\n",
    "print(payment_method_final)"
   ]
  },
  {
   "cell_type": "code",
   "execution_count": 23,
   "id": "bc7886e8-1300-4bb0-8525-532f99466338",
   "metadata": {},
   "outputs": [
    {
     "name": "stdout",
     "output_type": "stream",
     "text": [
      "DIS 12.209142857142854\n",
      "UNK 7.260346374283575\n",
      "CRD 10.231365502002985\n",
      "CSH 7.439903790491653\n",
      "NOC 11.08192703670546\n"
     ]
    }
   ],
   "source": [
    "valores_medios = []\n",
    "\n",
    "for i in range(0, payment_method_final.shape[1]):\n",
    "    valores_medios.append(payment_method_final[i][8] / payment_method_final[i][1])\n",
    "    print(payment_method_final[i][0], payment_method_final[i][8] / payment_method_final[i][1])"
   ]
  },
  {
   "cell_type": "code",
   "execution_count": 24,
   "id": "9d721e50-0ea9-4eb2-a86f-e3b8ce2b7cdd",
   "metadata": {},
   "outputs": [
    {
     "data": {
      "text/html": [
       "<div>\n",
       "<style scoped>\n",
       "    .dataframe tbody tr th:only-of-type {\n",
       "        vertical-align: middle;\n",
       "    }\n",
       "\n",
       "    .dataframe tbody tr th {\n",
       "        vertical-align: top;\n",
       "    }\n",
       "\n",
       "    .dataframe thead th {\n",
       "        text-align: right;\n",
       "    }\n",
       "</style>\n",
       "<table border=\"1\" class=\"dataframe\">\n",
       "  <thead>\n",
       "    <tr style=\"text-align: right;\">\n",
       "      <th></th>\n",
       "      <th>Método de pagamento</th>\n",
       "      <th>Total médio pago por passageiro</th>\n",
       "    </tr>\n",
       "  </thead>\n",
       "  <tbody>\n",
       "    <tr>\n",
       "      <th>0</th>\n",
       "      <td>DIS</td>\n",
       "      <td>12.209143</td>\n",
       "    </tr>\n",
       "    <tr>\n",
       "      <th>1</th>\n",
       "      <td>UNK</td>\n",
       "      <td>7.260346</td>\n",
       "    </tr>\n",
       "    <tr>\n",
       "      <th>2</th>\n",
       "      <td>CRD</td>\n",
       "      <td>10.231366</td>\n",
       "    </tr>\n",
       "    <tr>\n",
       "      <th>3</th>\n",
       "      <td>CSH</td>\n",
       "      <td>7.439904</td>\n",
       "    </tr>\n",
       "    <tr>\n",
       "      <th>4</th>\n",
       "      <td>NOC</td>\n",
       "      <td>11.081927</td>\n",
       "    </tr>\n",
       "  </tbody>\n",
       "</table>\n",
       "</div>"
      ],
      "text/plain": [
       "  Método de pagamento  Total médio pago por passageiro\n",
       "0                 DIS                        12.209143\n",
       "1                 UNK                         7.260346\n",
       "2                 CRD                        10.231366\n",
       "3                 CSH                         7.439904\n",
       "4                 NOC                        11.081927"
      ]
     },
     "execution_count": 24,
     "metadata": {},
     "output_type": "execute_result"
    }
   ],
   "source": [
    "nomes_pagamento = ['DIS', 'UNK', 'CRD', 'CSH', 'NOC']\n",
    "\n",
    "data = {'Método de pagamento': nomes_pagamento, 'Total médio pago por passageiro': valores_medios}\n",
    "df_valores_medios = pd.DataFrame(data)\n",
    "\n",
    "df_valores_medios"
   ]
  },
  {
   "cell_type": "code",
   "execution_count": 25,
   "id": "393c9fa9-3745-412a-bf12-e589b117e821",
   "metadata": {},
   "outputs": [
    {
     "data": {
      "text/plain": [
       "<AxesSubplot:xlabel='Método de pagamento', ylabel='Total médio pago por passageiro'>"
      ]
     },
     "execution_count": 25,
     "metadata": {},
     "output_type": "execute_result"
    },
    {
     "data": {
      "image/png": "[encoded data removed]",
      "text/plain": [
       "<Figure size 432x288 with 1 Axes>"
      ]
     },
     "metadata": {
      "needs_background": "light"
     },
     "output_type": "display_data"
    }
   ],
   "source": [
    "# Histograma do total médio por passageiro por método de pagamento\n",
    "\n",
    "sns.barplot(data = df_valores_medios, x = df_valores_medios['Método de pagamento'], y = df_valores_medios['Total médio pago por passageiro'])"
   ]
  },
  {
   "cell_type": "code",
   "execution_count": 26,
   "id": "5abda093-8b37-4315-973d-f4883183839b",
   "metadata": {},
   "outputs": [],
   "source": [
    "# Informação relevante sobre a coluna código de viagem\n",
    "\n",
    "rate_code = taxis_and_limosines_subamostra.select(' passenger_count',' trip_distance',' fare_amount',' surcharge',\n",
    "                                                       ' mta_tax',' tip_amount',' tolls_amount', \n",
    "                                                       ' total_amount', ' rate_code').groupBy(taxis_and_limosines.columns[7]).sum().sort(taxis_and_limosines.columns[7])"
   ]
  },
  {
   "cell_type": "code",
   "execution_count": 27,
   "id": "1205e951-cbad-4721-b4a5-e7d778e77f73",
   "metadata": {},
   "outputs": [
    {
     "name": "stderr",
     "output_type": "stream",
     "text": [
      "                                                                                \r"
     ]
    },
    {
     "name": "stdout",
     "output_type": "stream",
     "text": [
      "-RECORD 0-------------------------------------\n",
      "  rate_code            | 0                    \n",
      " sum( passenger_count) | 25                   \n",
      " sum( trip_distance)   | 49.599999999999994   \n",
      " sum( fare_amount)     | 235.5                \n",
      " sum( surcharge)       | 9.5                  \n",
      " sum( mta_tax)         | 10.0                 \n",
      " sum( tip_amount)      | 25.87                \n",
      " sum( tolls_amount)    | 0.0                  \n",
      " sum( total_amount)    | 280.87               \n",
      " sum( rate_code)       | 0                    \n",
      "-RECORD 1-------------------------------------\n",
      "  rate_code            | 1                    \n",
      " sum( passenger_count) | 2106773              \n",
      " sum( trip_distance)   | 3360365.710000008    \n",
      " sum( fare_amount)     | 1.447406478E7        \n",
      " sum( surcharge)       | 409305.13            \n",
      " sum( mta_tax)         | 616927.5             \n",
      " sum( tip_amount)      | 1668517.250000016    \n",
      " sum( tolls_amount)    | 223358.53999999733   \n",
      " sum( total_amount)    | 1.7392323239999626E7 \n",
      " sum( rate_code)       | 1233924              \n",
      "-RECORD 2-------------------------------------\n",
      "  rate_code            | 2                    \n",
      " sum( passenger_count) | 48504                \n",
      " sum( trip_distance)   | 463547.94999999984   \n",
      " sum( fare_amount)     | 1372034.01           \n",
      " sum( surcharge)       | 8.96                 \n",
      " sum( mta_tax)         | 13197.0              \n",
      " sum( tip_amount)      | 153733.53999999966   \n",
      " sum( tolls_amount)    | 110049.49999999878   \n",
      " sum( total_amount)    | 1649023.0100000254   \n",
      " sum( rate_code)       | 52830                \n",
      "-RECORD 3-------------------------------------\n",
      "  rate_code            | 3                    \n",
      " sum( passenger_count) | 4118                 \n",
      " sum( trip_distance)   | 35411.189999999995   \n",
      " sum( fare_amount)     | 142920.5             \n",
      " sum( surcharge)       | 469.0                \n",
      " sum( mta_tax)         | 0.0                  \n",
      " sum( tip_amount)      | 17967.879999999997   \n",
      " sum( tolls_amount)    | 23694.72             \n",
      " sum( total_amount)    | 185052.1             \n",
      " sum( rate_code)       | 6729                 \n",
      "-RECORD 4-------------------------------------\n",
      "  rate_code            | 4                    \n",
      " sum( passenger_count) | 809                  \n",
      " sum( trip_distance)   | 8158.21              \n",
      " sum( fare_amount)     | 30257.7              \n",
      " sum( surcharge)       | 173.5                \n",
      " sum( mta_tax)         | 245.0                \n",
      " sum( tip_amount)      | 2662.25              \n",
      " sum( tolls_amount)    | 683.67               \n",
      " sum( total_amount)    | 34022.119999999995   \n",
      " sum( rate_code)       | 1960                 \n",
      "-RECORD 5-------------------------------------\n",
      "  rate_code            | 5                    \n",
      " sum( passenger_count) | 3718                 \n",
      " sum( trip_distance)   | 21867.0              \n",
      " sum( fare_amount)     | 183077.13999999998   \n",
      " sum( surcharge)       | 2.0                  \n",
      " sum( mta_tax)         | 265.5                \n",
      " sum( tip_amount)      | 18769.59             \n",
      " sum( tolls_amount)    | 10511.170000000002   \n",
      " sum( total_amount)    | 212625.40000000002   \n",
      " sum( rate_code)       | 13245                \n",
      "-RECORD 6-------------------------------------\n",
      "  rate_code            | 6                    \n",
      " sum( passenger_count) | 25                   \n",
      " sum( trip_distance)   | 12.5                 \n",
      " sum( fare_amount)     | 63.5                 \n",
      " sum( surcharge)       | 0.0                  \n",
      " sum( mta_tax)         | 9.5                  \n",
      " sum( tip_amount)      | 90.19999999999999    \n",
      " sum( tolls_amount)    | 0.0                  \n",
      " sum( total_amount)    | 163.2                \n",
      " sum( rate_code)       | 114                  \n",
      "\n"
     ]
    },
    {
     "name": "stderr",
     "output_type": "stream",
     "text": [
      "                                                                                \r"
     ]
    },
    {
     "name": "stdout",
     "output_type": "stream",
     "text": [
      "                            0            1           2          3         4  \\\n",
      " rate_code               0.00         1.00        2.00       3.00      4.00   \n",
      "sum( passenger_count)   25.00   2106773.00    48504.00    4118.00    809.00   \n",
      "sum( trip_distance)     49.60   3360365.71   463547.95   35411.19   8158.21   \n",
      "sum( fare_amount)      235.50  14474064.78  1372034.01  142920.50  30257.70   \n",
      "sum( surcharge)          9.50    409305.13        8.96     469.00    173.50   \n",
      "sum( mta_tax)           10.00    616927.50    13197.00       0.00    245.00   \n",
      "sum( tip_amount)        25.87   1668517.25   153733.54   17967.88   2662.25   \n",
      "sum( tolls_amount)       0.00    223358.54   110049.50   23694.72    683.67   \n",
      "sum( total_amount)     280.87  17392323.24  1649023.01  185052.10  34022.12   \n",
      "sum( rate_code)          0.00   1233924.00    52830.00    6729.00   1960.00   \n",
      "\n",
      "                               5      6  \n",
      " rate_code                  5.00    6.0  \n",
      "sum( passenger_count)    3718.00   25.0  \n",
      "sum( trip_distance)     21867.00   12.5  \n",
      "sum( fare_amount)      183077.14   63.5  \n",
      "sum( surcharge)             2.00    0.0  \n",
      "sum( mta_tax)             265.50    9.5  \n",
      "sum( tip_amount)        18769.59   90.2  \n",
      "sum( tolls_amount)      10511.17    0.0  \n",
      "sum( total_amount)     212625.40  163.2  \n",
      "sum( rate_code)         13245.00  114.0  \n"
     ]
    }
   ],
   "source": [
    "rate_code.show(vertical=True)\n",
    "\n",
    "rate_code_pandas = rate_code.toPandas()\n",
    "\n",
    "rate_code_final = rate_code_pandas.transpose()\n",
    "\n",
    "print(rate_code_final)"
   ]
  },
  {
   "cell_type": "code",
   "execution_count": 28,
   "id": "b97731c2-501a-41b0-a950-124b67a5513e",
   "metadata": {},
   "outputs": [
    {
     "name": "stdout",
     "output_type": "stream",
     "text": [
      "0.0 11.2348\n",
      "1.0 8.255432948874713\n",
      "2.0 33.99767050140247\n",
      "3.0 44.93737251092764\n",
      "4.0 42.05453646477132\n",
      "5.0 57.18811188811189\n",
      "6.0 6.528\n"
     ]
    }
   ],
   "source": [
    "valores_medios = []\n",
    "\n",
    "for i in range(0, rate_code_final.shape[1]):\n",
    "    valores_medios.append(rate_code_final[i][8] / rate_code_final[i][1])\n",
    "    print(rate_code_final[i][0], rate_code_final[i][8] / rate_code_final[i][1])"
   ]
  },
  {
   "cell_type": "code",
   "execution_count": 29,
   "id": "9adf14e4-fc24-46e1-97b1-b5f8a7aa3b3d",
   "metadata": {},
   "outputs": [
    {
     "data": {
      "text/html": [
       "<div>\n",
       "<style scoped>\n",
       "    .dataframe tbody tr th:only-of-type {\n",
       "        vertical-align: middle;\n",
       "    }\n",
       "\n",
       "    .dataframe tbody tr th {\n",
       "        vertical-align: top;\n",
       "    }\n",
       "\n",
       "    .dataframe thead th {\n",
       "        text-align: right;\n",
       "    }\n",
       "</style>\n",
       "<table border=\"1\" class=\"dataframe\">\n",
       "  <thead>\n",
       "    <tr style=\"text-align: right;\">\n",
       "      <th></th>\n",
       "      <th>Códigos de viagem</th>\n",
       "      <th>Total médio pago por passageiro</th>\n",
       "    </tr>\n",
       "  </thead>\n",
       "  <tbody>\n",
       "    <tr>\n",
       "      <th>0</th>\n",
       "      <td>0</td>\n",
       "      <td>11.234800</td>\n",
       "    </tr>\n",
       "    <tr>\n",
       "      <th>1</th>\n",
       "      <td>1</td>\n",
       "      <td>8.255433</td>\n",
       "    </tr>\n",
       "    <tr>\n",
       "      <th>2</th>\n",
       "      <td>2</td>\n",
       "      <td>33.997671</td>\n",
       "    </tr>\n",
       "    <tr>\n",
       "      <th>3</th>\n",
       "      <td>3</td>\n",
       "      <td>44.937373</td>\n",
       "    </tr>\n",
       "    <tr>\n",
       "      <th>4</th>\n",
       "      <td>4</td>\n",
       "      <td>42.054536</td>\n",
       "    </tr>\n",
       "    <tr>\n",
       "      <th>5</th>\n",
       "      <td>5</td>\n",
       "      <td>57.188112</td>\n",
       "    </tr>\n",
       "    <tr>\n",
       "      <th>6</th>\n",
       "      <td>6</td>\n",
       "      <td>6.528000</td>\n",
       "    </tr>\n",
       "  </tbody>\n",
       "</table>\n",
       "</div>"
      ],
      "text/plain": [
       "  Códigos de viagem  Total médio pago por passageiro\n",
       "0                 0                        11.234800\n",
       "1                 1                         8.255433\n",
       "2                 2                        33.997671\n",
       "3                 3                        44.937373\n",
       "4                 4                        42.054536\n",
       "5                 5                        57.188112\n",
       "6                 6                         6.528000"
      ]
     },
     "execution_count": 29,
     "metadata": {},
     "output_type": "execute_result"
    }
   ],
   "source": [
    "rate_codes = ['0', '1', '2', '3', '4', '5', '6']\n",
    "\n",
    "data = {'Códigos de viagem': rate_codes, 'Total médio pago por passageiro': valores_medios}\n",
    "df_valores_medios = pd.DataFrame(data)\n",
    "\n",
    "df_valores_medios"
   ]
  },
  {
   "cell_type": "code",
   "execution_count": 30,
   "id": "36919591-8023-46c8-a023-61d0b620388b",
   "metadata": {},
   "outputs": [
    {
     "data": {
      "text/plain": [
       "<AxesSubplot:xlabel='Códigos de viagem', ylabel='Total médio pago por passageiro'>"
      ]
     },
     "execution_count": 30,
     "metadata": {},
     "output_type": "execute_result"
    },
    {
     "data": {
      "image/png": "[encoded data removed]",
      "text/plain": [
       "<Figure size 432x288 with 1 Axes>"
      ]
     },
     "metadata": {
      "needs_background": "light"
     },
     "output_type": "display_data"
    }
   ],
   "source": [
    "# Histograma do total médio por passageiro por código de viagem\n",
    "\n",
    "sns.barplot(data = df_valores_medios, x = df_valores_medios['Códigos de viagem'], y = df_valores_medios['Total médio pago por passageiro'])"
   ]
  },
  {
   "cell_type": "code",
   "execution_count": 31,
   "id": "4ac5be1a-1f38-45dd-bb1c-1b1f09d984be",
   "metadata": {},
   "outputs": [
    {
     "name": "stderr",
     "output_type": "stream",
     "text": [
      "                                                                                \r"
     ]
    }
   ],
   "source": [
    "# Conversão da subamostra em pandas\n",
    "\n",
    "subamostra_pandas = taxis_and_limosines_subamostra.toPandas()"
   ]
  },
  {
   "cell_type": "code",
   "execution_count": 69,
   "id": "a366a887-07ff-474b-a52a-2d0e837a71af",
   "metadata": {},
   "outputs": [
    {
     "data": {
      "text/plain": [
       "Text(0, 0.5, 'Total Amount')"
      ]
     },
     "execution_count": 69,
     "metadata": {},
     "output_type": "execute_result"
    },
    {
     "data": {
      "image/png": "[encoded data removed]",
      "text/plain": [
       "<Figure size 432x288 with 1 Axes>"
      ]
     },
     "metadata": {
      "needs_background": "light"
     },
     "output_type": "display_data"
    }
   ],
   "source": [
    "# Gráfico das receitas diárias ao longo do mês\n",
    "\n",
    "receitas_diarias = subamostra_pandas.groupby(subamostra_pandas[' pickup_datetime'].dt.date).sum()\n",
    "\n",
    "plt.plot(receitas_diarias.index, receitas_diarias[' total_amount'])\n",
    "plt.legend([\"Montante\"])\n",
    "plt.gcf().autofmt_xdate()\n",
    "plt.title('Receitas diárias')\n",
    "plt.xlabel('Data')\n",
    "plt.ylabel('Total Amount')"
   ]
  },
  {
   "cell_type": "code",
   "execution_count": 94,
   "id": "3b9afb72-2a94-4feb-9a68-4c98db4f6106",
   "metadata": {},
   "outputs": [
    {
     "name": "stderr",
     "output_type": "stream",
     "text": [
      "                                                                                \r"
     ]
    },
    {
     "name": "stdout",
     "output_type": "stream",
     "text": [
      " passenger_count :  0.015698291639990217\n"
     ]
    },
    {
     "name": "stderr",
     "output_type": "stream",
     "text": [
      "                                                                                \r"
     ]
    },
    {
     "name": "stdout",
     "output_type": "stream",
     "text": [
      " trip_distance :  0.9236638149761347\n"
     ]
    },
    {
     "name": "stderr",
     "output_type": "stream",
     "text": [
      "                                                                                \r"
     ]
    },
    {
     "name": "stdout",
     "output_type": "stream",
     "text": [
      " pickup_longitude :  -0.0038727737744397345\n"
     ]
    },
    {
     "name": "stderr",
     "output_type": "stream",
     "text": [
      "                                                                                \r"
     ]
    },
    {
     "name": "stdout",
     "output_type": "stream",
     "text": [
      " pickup_latitude :  0.004279754854484199\n"
     ]
    },
    {
     "name": "stderr",
     "output_type": "stream",
     "text": [
      "                                                                                \r"
     ]
    },
    {
     "name": "stdout",
     "output_type": "stream",
     "text": [
      " rate_code :  0.5653735408337559\n"
     ]
    },
    {
     "name": "stderr",
     "output_type": "stream",
     "text": [
      "                                                                                \r"
     ]
    },
    {
     "name": "stdout",
     "output_type": "stream",
     "text": [
      " store_and_fwd_flag :  0.014237776734215224\n"
     ]
    },
    {
     "name": "stderr",
     "output_type": "stream",
     "text": [
      "                                                                                \r"
     ]
    },
    {
     "name": "stdout",
     "output_type": "stream",
     "text": [
      " dropoff_longitude :  -0.003437077639327108\n"
     ]
    },
    {
     "name": "stderr",
     "output_type": "stream",
     "text": [
      "                                                                                \r"
     ]
    },
    {
     "name": "stdout",
     "output_type": "stream",
     "text": [
      " dropoff_latitude :  0.003650084376583162\n"
     ]
    },
    {
     "name": "stderr",
     "output_type": "stream",
     "text": [
      "                                                                                \r"
     ]
    },
    {
     "name": "stdout",
     "output_type": "stream",
     "text": [
      " fare_amount :  0.9827981937840936\n"
     ]
    },
    {
     "name": "stderr",
     "output_type": "stream",
     "text": [
      "                                                                                \r"
     ]
    },
    {
     "name": "stdout",
     "output_type": "stream",
     "text": [
      " surcharge :  -0.05109163183034506\n"
     ]
    },
    {
     "name": "stderr",
     "output_type": "stream",
     "text": [
      "                                                                                \r"
     ]
    },
    {
     "name": "stdout",
     "output_type": "stream",
     "text": [
      " mta_tax :  -0.29907295484690166\n"
     ]
    },
    {
     "name": "stderr",
     "output_type": "stream",
     "text": [
      "[Stage 334:===================================================>   (15 + 1) / 16]\r"
     ]
    },
    {
     "name": "stdout",
     "output_type": "stream",
     "text": [
      " tip_amount :  0.6492654979008966\n"
     ]
    },
    {
     "name": "stderr",
     "output_type": "stream",
     "text": [
      "                                                                                \r"
     ]
    },
    {
     "name": "stdout",
     "output_type": "stream",
     "text": [
      " tolls_amount :  0.6735357837188547\n"
     ]
    },
    {
     "name": "stderr",
     "output_type": "stream",
     "text": [
      "                                                                                \r"
     ]
    },
    {
     "name": "stdout",
     "output_type": "stream",
     "text": [
      " trip_duration :  0.8151073023644785\n"
     ]
    },
    {
     "name": "stderr",
     "output_type": "stream",
     "text": [
      "[Stage 340:================================================>      (14 + 2) / 16]\r"
     ]
    },
    {
     "name": "stdout",
     "output_type": "stream",
     "text": [
      " total_amount :  1.0\n"
     ]
    },
    {
     "name": "stderr",
     "output_type": "stream",
     "text": [
      "                                                                                \r"
     ]
    }
   ],
   "source": [
    "numericas = taxis_and_limosines_subamostra.select(' passenger_count', ' trip_distance', ' pickup_longitude', ' pickup_latitude', ' rate_code', ' store_and_fwd_flag', ' dropoff_longitude', ' dropoff_latitude', ' fare_amount', ' surcharge', ' mta_tax', ' tip_amount', ' tolls_amount', ' trip_duration', ' total_amount')\n",
    "\n",
    "numericas = numericas.withColumn(' store_and_fwd_flag', when(numericas[' store_and_fwd_flag'] == 'Y', 1).otherwise(0))\n",
    "\n",
    "for i in numericas.columns:\n",
    "    print(i, ': ', numericas.stat.corr(i, ' total_amount'))"
   ]
  },
  {
   "cell_type": "code",
   "execution_count": 93,
   "id": "d9cf8af1-fd50-403a-bf3b-2b7dff122a4d",
   "metadata": {},
   "outputs": [
    {
     "name": "stderr",
     "output_type": "stream",
     "text": [
      "                                                                                \r"
     ]
    }
   ],
   "source": [
    "# Guardar o ficheiro representativo da subamostra para utilizar no notebook contendo apenas o algoritmo\n",
    "\n",
    "taxis_and_limosines_subamostra.write.mode(\"overwrite\").csv(\"taxis_and_limosines_subamostra\",header=True)"
   ]
  }
 ],
 "metadata": {
  "kernelspec": {
   "display_name": "PySpark",
   "language": "python",
   "name": "pyspark"
  },
  "language_info": {
   "codemirror_mode": {
    "name": "ipython",
    "version": 3
   },
   "file_extension": ".py",
   "mimetype": "text/x-python",
   "name": "python",
   "nbconvert_exporter": "python",
   "pygments_lexer": "ipython3",
   "version": "3.8.10"
  }
 },
 "nbformat": 4,
 "nbformat_minor": 5
}
