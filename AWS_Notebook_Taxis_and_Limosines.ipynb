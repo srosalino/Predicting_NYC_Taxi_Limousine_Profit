{
 "cells": [
  {
   "cell_type": "code",
   "execution_count": 3,
   "id": "b01eaaf9-24c4-4c2d-bf45-85e71aeda124",
   "metadata": {
    "execution": {
     "iopub.execute_input": "2022-04-09T19:24:28.933482Z",
     "iopub.status.busy": "2022-04-09T19:24:28.933256Z",
     "iopub.status.idle": "2022-04-09T19:24:28.995410Z",
     "shell.execute_reply": "2022-04-09T19:24:28.994747Z",
     "shell.execute_reply.started": "2022-04-09T19:24:28.933456Z"
    },
    "tags": []
   },
   "outputs": [
    {
     "data": {
      "application/vnd.jupyter.widget-view+json": {
       "model_id": "462d849e8f38477eb8b04cdebccdf70d",
       "version_major": 2,
       "version_minor": 0
      },
      "text/plain": [
       "VBox()"
      ]
     },
     "metadata": {},
     "output_type": "display_data"
    },
    {
     "data": {
      "application/vnd.jupyter.widget-view+json": {
       "model_id": "85f32c6d8d174f048b1d7d55e2b473ed",
       "version_major": 2,
       "version_minor": 0
      },
      "text/plain": [
       "FloatProgress(value=0.0, bar_style='info', description='Progress:', layout=Layout(height='25px', width='50%'),…"
      ]
     },
     "metadata": {},
     "output_type": "display_data"
    }
   ],
   "source": [
    "# Importação das bibliotecas necessárias\n",
    "\n",
    "\n",
    "import pandas as pd\n",
    "import numpy as np\n",
    "\n",
    "import datetime as dt\n",
    "\n",
    "from pyspark.ml.feature import VectorAssembler\n",
    "from pyspark.ml.regression import LinearRegression"
   ]
  },
  {
   "cell_type": "code",
   "execution_count": 1,
   "id": "63c591bf-032a-454e-8caa-b82f6f32bcda",
   "metadata": {
    "execution": {
     "iopub.execute_input": "2022-04-09T20:52:54.634274Z",
     "iopub.status.busy": "2022-04-09T20:52:54.634041Z",
     "iopub.status.idle": "2022-04-09T20:53:27.300200Z",
     "shell.execute_reply": "2022-04-09T20:53:27.299563Z",
     "shell.execute_reply.started": "2022-04-09T20:52:54.634246Z"
    },
    "tags": []
   },
   "outputs": [
    {
     "data": {
      "application/vnd.jupyter.widget-view+json": {
       "model_id": "3928f81977e542baa6071ae7bbefd8ab",
       "version_major": 2,
       "version_minor": 0
      },
      "text/plain": [
       "VBox()"
      ]
     },
     "metadata": {},
     "output_type": "display_data"
    },
    {
     "name": "stdout",
     "output_type": "stream",
     "text": [
      "Starting Spark application\n"
     ]
    },
    {
     "data": {
      "text/html": [
       "<table>\n",
       "<tr><th>ID</th><th>YARN Application ID</th><th>Kind</th><th>State</th><th>Spark UI</th><th>Driver log</th><th>Current session?</th></tr><tr><td>0</td><td>application_1649537342906_0001</td><td>pyspark</td><td>idle</td><td><a target=\"_blank\" href=\"http://ip-172-31-86-138.ec2.internal:20888/proxy/application_1649537342906_0001/\" class=\"emr-proxy-link\" emr-resource=\"j-2DTQU6IEPFKSI\n",
       "\" application-id=\"application_1649537342906_0001\">Link</a></td><td><a target=\"_blank\" href=\"http://ip-172-31-83-175.ec2.internal:8042/node/containerlogs/container_1649537342906_0001_01_000001/livy\" >Link</a></td><td>✔</td></tr></table>"
      ],
      "text/plain": [
       "<IPython.core.display.HTML object>"
      ]
     },
     "metadata": {},
     "output_type": "display_data"
    },
    {
     "data": {
      "application/vnd.jupyter.widget-view+json": {
       "model_id": "",
       "version_major": 2,
       "version_minor": 0
      },
      "text/plain": [
       "FloatProgress(value=0.0, bar_style='info', description='Progress:', layout=Layout(height='25px', width='50%'),…"
      ]
     },
     "metadata": {},
     "output_type": "display_data"
    },
    {
     "name": "stdout",
     "output_type": "stream",
     "text": [
      "SparkSession available as 'spark'.\n"
     ]
    },
    {
     "data": {
      "application/vnd.jupyter.widget-view+json": {
       "model_id": "",
       "version_major": 2,
       "version_minor": 0
      },
      "text/plain": [
       "FloatProgress(value=0.0, bar_style='info', description='Progress:', layout=Layout(height='25px', width='50%'),…"
      ]
     },
     "metadata": {},
     "output_type": "display_data"
    }
   ],
   "source": [
    "# Algumas importações relativos ao Spark que iremos usar daqui em diante\n",
    "\n",
    "import sys\n",
    "\n",
    "from pyspark.sql import SparkSession\n",
    "from pyspark.sql.functions import *\n",
    "from pyspark.sql.types import *\n",
    "\n",
    "from pyspark.ml import Pipeline\n",
    "from pyspark.ml.stat import Correlation\n",
    "from pyspark.ml.feature import Imputer, VectorAssembler\n",
    "from pyspark.ml.regression import LinearRegression\n",
    "from pyspark.ml.evaluation import RegressionEvaluator"
   ]
  },
  {
   "cell_type": "code",
   "execution_count": 2,
   "id": "9c38cc6a-260a-4ef7-aa87-2d61c1a4c555",
   "metadata": {
    "execution": {
     "iopub.execute_input": "2022-04-09T20:53:31.759065Z",
     "iopub.status.busy": "2022-04-09T20:53:31.758824Z",
     "iopub.status.idle": "2022-04-09T20:53:33.092141Z",
     "shell.execute_reply": "2022-04-09T20:53:33.091434Z",
     "shell.execute_reply.started": "2022-04-09T20:53:31.759041Z"
    },
    "tags": []
   },
   "outputs": [
    {
     "data": {
      "application/vnd.jupyter.widget-view+json": {
       "model_id": "fc54e59d061e455cbc6eddbbd70067bc",
       "version_major": 2,
       "version_minor": 0
      },
      "text/plain": [
       "VBox()"
      ]
     },
     "metadata": {},
     "output_type": "display_data"
    },
    {
     "data": {
      "application/vnd.jupyter.widget-view+json": {
       "model_id": "",
       "version_major": 2,
       "version_minor": 0
      },
      "text/plain": [
       "FloatProgress(value=0.0, bar_style='info', description='Progress:', layout=Layout(height='25px', width='50%'),…"
      ]
     },
     "metadata": {},
     "output_type": "display_data"
    }
   ],
   "source": [
    "# Criação de uma sessão spark\n",
    "\n",
    "spark = SparkSession\\\n",
    "    .builder\\\n",
    "    .appName(\"AirBnB\")\\\n",
    "    .config(\"spark.sql.shuffle.partitions\",6)\\\n",
    "    .getOrCreate()"
   ]
  },
  {
   "cell_type": "code",
   "execution_count": 8,
   "id": "1cf90c3e-d550-4f49-9aef-7b62790bfe1c",
   "metadata": {},
   "outputs": [
    {
     "name": "stdout",
     "output_type": "stream",
     "text": [
      "/home/big/praticas/Trabalho_Grupo\n"
     ]
    }
   ],
   "source": [
    "# Ver o caminho para a pasta contendo o dataset\n",
    "\n",
    "! pwd"
   ]
  },
  {
   "cell_type": "code",
   "execution_count": 3,
   "id": "6955aa24-ee03-40a1-b590-5e695b20efb5",
   "metadata": {
    "execution": {
     "iopub.execute_input": "2022-04-09T20:53:48.389858Z",
     "iopub.status.busy": "2022-04-09T20:53:48.389626Z",
     "iopub.status.idle": "2022-04-09T20:54:17.864072Z",
     "shell.execute_reply": "2022-04-09T20:54:17.863428Z",
     "shell.execute_reply.started": "2022-04-09T20:53:48.389834Z"
    },
    "tags": []
   },
   "outputs": [
    {
     "data": {
      "application/vnd.jupyter.widget-view+json": {
       "model_id": "f68563dfcf354b0da4ec5668a9cbac74",
       "version_major": 2,
       "version_minor": 0
      },
      "text/plain": [
       "VBox()"
      ]
     },
     "metadata": {},
     "output_type": "display_data"
    },
    {
     "data": {
      "application/vnd.jupyter.widget-view+json": {
       "model_id": "",
       "version_major": 2,
       "version_minor": 0
      },
      "text/plain": [
       "FloatProgress(value=0.0, bar_style='info', description='Progress:', layout=Layout(height='25px', width='50%'),…"
      ]
     },
     "metadata": {},
     "output_type": "display_data"
    }
   ],
   "source": [
    "# Ler o dataset\n",
    "\n",
    "taxis_and_limosines = spark.read.csv('s3://bruhcket/Dados/big data/', header=\"true\", inferSchema=\"true\", sep=',')"
   ]
  },
  {
   "cell_type": "code",
   "execution_count": 4,
   "id": "e0622895-d8af-4226-b134-87ec4e892687",
   "metadata": {
    "collapsed": true,
    "execution": {
     "iopub.execute_input": "2022-04-09T20:54:21.720835Z",
     "iopub.status.busy": "2022-04-09T20:54:21.720601Z",
     "iopub.status.idle": "2022-04-09T20:54:29.086652Z",
     "shell.execute_reply": "2022-04-09T20:54:29.077328Z",
     "shell.execute_reply.started": "2022-04-09T20:54:21.720810Z"
    },
    "jupyter": {
     "outputs_hidden": true
    },
    "tags": []
   },
   "outputs": [
    {
     "data": {
      "application/vnd.jupyter.widget-view+json": {
       "model_id": "78a4ab0cffb3486a9fde207d083fcc69",
       "version_major": 2,
       "version_minor": 0
      },
      "text/plain": [
       "VBox()"
      ]
     },
     "metadata": {},
     "output_type": "display_data"
    },
    {
     "data": {
      "application/vnd.jupyter.widget-view+json": {
       "model_id": "",
       "version_major": 2,
       "version_minor": 0
      },
      "text/plain": [
       "FloatProgress(value=0.0, bar_style='info', description='Progress:', layout=Layout(height='25px', width='50%'),…"
      ]
     },
     "metadata": {},
     "output_type": "display_data"
    },
    {
     "name": "stdout",
     "output_type": "stream",
     "text": [
      "-RECORD 0----------------------------------\n",
      " vendor_id           | CMT                 \n",
      "  pickup_datetime    | 2014-08-16 14:58:49 \n",
      "  dropoff_datetime   | 2014-08-16 15:15:59 \n",
      "  passenger_count    | 1                   \n",
      "  trip_distance      | 2.7                 \n",
      "  pickup_longitude   | -73.946537          \n",
      "  pickup_latitude    | 40.776813           \n",
      "  rate_code          | 1                   \n",
      "  store_and_fwd_flag | N                   \n",
      "  dropoff_longitude  | -73.976193          \n",
      "  dropoff_latitude   | 40.755625           \n",
      "  payment_type       | CSH                 \n",
      "  fare_amount        | 14.0                \n",
      "  surcharge          | 0.0                 \n",
      "  mta_tax            | 0.5                 \n",
      "  tip_amount         | 0.0                 \n",
      "  tolls_amount       | 0.0                 \n",
      "  total_amount       | 14.5                \n",
      "-RECORD 1----------------------------------\n",
      " vendor_id           | CMT                 \n",
      "  pickup_datetime    | 2014-08-16 08:10:48 \n",
      "  dropoff_datetime   | 2014-08-16 08:58:16 \n",
      "  passenger_count    | 3                   \n",
      "  trip_distance      | 20.4                \n",
      "  pickup_longitude   | -73.776857          \n",
      "  pickup_latitude    | 40.645099           \n",
      "  rate_code          | 1                   \n",
      "  store_and_fwd_flag | Y                   \n",
      "  dropoff_longitude  | -73.916249          \n",
      "  dropoff_latitude   | 40.837357           \n",
      "  payment_type       | CSH                 \n",
      "  fare_amount        | 58.5                \n",
      "  surcharge          | 0.0                 \n",
      "  mta_tax            | 0.5                 \n",
      "  tip_amount         | 0.0                 \n",
      "  tolls_amount       | 5.33                \n",
      "  total_amount       | 64.33               \n",
      "-RECORD 2----------------------------------\n",
      " vendor_id           | CMT                 \n",
      "  pickup_datetime    | 2014-08-16 09:44:07 \n",
      "  dropoff_datetime   | 2014-08-16 09:54:37 \n",
      "  passenger_count    | 1                   \n",
      "  trip_distance      | 2.1                 \n",
      "  pickup_longitude   | -73.986585          \n",
      "  pickup_latitude    | 40.725848           \n",
      "  rate_code          | 1                   \n",
      "  store_and_fwd_flag | N                   \n",
      "  dropoff_longitude  | -73.977157          \n",
      "  dropoff_latitude   | 40.751961           \n",
      "  payment_type       | CSH                 \n",
      "  fare_amount        | 9.5                 \n",
      "  surcharge          | 0.0                 \n",
      "  mta_tax            | 0.5                 \n",
      "  tip_amount         | 0.0                 \n",
      "  tolls_amount       | 0.0                 \n",
      "  total_amount       | 10.0                \n",
      "-RECORD 3----------------------------------\n",
      " vendor_id           | CMT                 \n",
      "  pickup_datetime    | 2014-08-16 10:46:13 \n",
      "  dropoff_datetime   | 2014-08-16 10:51:25 \n",
      "  passenger_count    | 1                   \n",
      "  trip_distance      | 1.3                 \n",
      "  pickup_longitude   | -73.97629           \n",
      "  pickup_latitude    | 40.765231           \n",
      "  rate_code          | 1                   \n",
      "  store_and_fwd_flag | N                   \n",
      "  dropoff_longitude  | -73.961485          \n",
      "  dropoff_latitude   | 40.777889           \n",
      "  payment_type       | CSH                 \n",
      "  fare_amount        | 6.0                 \n",
      "  surcharge          | 0.0                 \n",
      "  mta_tax            | 0.5                 \n",
      "  tip_amount         | 0.0                 \n",
      "  tolls_amount       | 0.0                 \n",
      "  total_amount       | 6.5                 \n",
      "-RECORD 4----------------------------------\n",
      " vendor_id           | CMT                 \n",
      "  pickup_datetime    | 2014-08-16 09:27:23 \n",
      "  dropoff_datetime   | 2014-08-16 09:39:37 \n",
      "  passenger_count    | 2                   \n",
      "  trip_distance      | 1.7                 \n",
      "  pickup_longitude   | -73.995248          \n",
      "  pickup_latitude    | 40.754646           \n",
      "  rate_code          | 1                   \n",
      "  store_and_fwd_flag | Y                   \n",
      "  dropoff_longitude  | -73.995903          \n",
      "  dropoff_latitude   | 40.769201           \n",
      "  payment_type       | CSH                 \n",
      "  fare_amount        | 10.5                \n",
      "  surcharge          | 0.0                 \n",
      "  mta_tax            | 0.5                 \n",
      "  tip_amount         | 0.0                 \n",
      "  tolls_amount       | 0.0                 \n",
      "  total_amount       | 11.0                \n",
      "only showing top 5 rows\n",
      "\n",
      "root\n",
      " |-- vendor_id: string (nullable = true)\n",
      " |--  pickup_datetime: string (nullable = true)\n",
      " |--  dropoff_datetime: string (nullable = true)\n",
      " |--  passenger_count: integer (nullable = true)\n",
      " |--  trip_distance: double (nullable = true)\n",
      " |--  pickup_longitude: double (nullable = true)\n",
      " |--  pickup_latitude: double (nullable = true)\n",
      " |--  rate_code: integer (nullable = true)\n",
      " |--  store_and_fwd_flag: string (nullable = true)\n",
      " |--  dropoff_longitude: double (nullable = true)\n",
      " |--  dropoff_latitude: double (nullable = true)\n",
      " |--  payment_type: string (nullable = true)\n",
      " |--  fare_amount: double (nullable = true)\n",
      " |--  surcharge: double (nullable = true)\n",
      " |--  mta_tax: double (nullable = true)\n",
      " |--  tip_amount: double (nullable = true)\n",
      " |--  tolls_amount: double (nullable = true)\n",
      " |--  total_amount: double (nullable = true)\n",
      "\n",
      "25795242"
     ]
    }
   ],
   "source": [
    "# Informações sobre os dados - 5 primeiras linhas, o esquema e o número total de registos\n",
    "\n",
    "taxis_and_limosines.show(5, vertical = True)\n",
    "\n",
    "taxis_and_limosines.count()"
   ]
  },
  {
   "cell_type": "code",
   "execution_count": 5,
   "id": "2b83bc95-edee-407c-87b9-51573145d7a6",
   "metadata": {
    "execution": {
     "iopub.execute_input": "2022-04-09T20:54:45.505819Z",
     "iopub.status.busy": "2022-04-09T20:54:45.505584Z",
     "iopub.status.idle": "2022-04-09T20:54:45.575196Z",
     "shell.execute_reply": "2022-04-09T20:54:45.574629Z",
     "shell.execute_reply.started": "2022-04-09T20:54:45.505795Z"
    },
    "tags": []
   },
   "outputs": [
    {
     "data": {
      "application/vnd.jupyter.widget-view+json": {
       "model_id": "160edf09c0b0493caadb4fada206feab",
       "version_major": 2,
       "version_minor": 0
      },
      "text/plain": [
       "VBox()"
      ]
     },
     "metadata": {},
     "output_type": "display_data"
    },
    {
     "data": {
      "application/vnd.jupyter.widget-view+json": {
       "model_id": "",
       "version_major": 2,
       "version_minor": 0
      },
      "text/plain": [
       "FloatProgress(value=0.0, bar_style='info', description='Progress:', layout=Layout(height='25px', width='50%'),…"
      ]
     },
     "metadata": {},
     "output_type": "display_data"
    },
    {
     "name": "stdout",
     "output_type": "stream",
     "text": [
      "root\n",
      " |-- vendor_id: string (nullable = true)\n",
      " |--  pickup_datetime: string (nullable = true)\n",
      " |--  dropoff_datetime: string (nullable = true)\n",
      " |--  passenger_count: integer (nullable = true)\n",
      " |--  trip_distance: double (nullable = true)\n",
      " |--  pickup_longitude: double (nullable = true)\n",
      " |--  pickup_latitude: double (nullable = true)\n",
      " |--  rate_code: integer (nullable = true)\n",
      " |--  store_and_fwd_flag: string (nullable = true)\n",
      " |--  dropoff_longitude: double (nullable = true)\n",
      " |--  dropoff_latitude: double (nullable = true)\n",
      " |--  payment_type: string (nullable = true)\n",
      " |--  fare_amount: double (nullable = true)\n",
      " |--  surcharge: double (nullable = true)\n",
      " |--  mta_tax: double (nullable = true)\n",
      " |--  tip_amount: double (nullable = true)\n",
      " |--  tolls_amount: double (nullable = true)\n",
      " |--  total_amount: double (nullable = true)"
     ]
    }
   ],
   "source": [
    "taxis_and_limosines.printSchema()"
   ]
  },
  {
   "cell_type": "code",
   "execution_count": null,
   "id": "2b64b23e-fbac-46e0-804a-a563ab5e3e0b",
   "metadata": {},
   "outputs": [],
   "source": [
    "# Significado das colunas:\n",
    "\n",
    "# vendor_id - Um código em string indicando o provedor associado ao registo de viagem\n",
    "# pickup_datetime - Data do início da viagem\n",
    "# dropoff_datetime - Data do fim da viagem\n",
    "# passenger_count - Número de passageiros da viagem\n",
    "# trip_distance - Distância da viagem\n",
    "# pickup_longitude - Longitude do sítio de início da viagem\n",
    "# pickup_latitude - Latitude do sítio de início da viagem\n",
    "# rate_code - Tarifa da rota\n",
    "# store_and_fwd_flag - Se o registo da viagem foi guardado na memória do veículo antes de ter sido enviado para o provedor\n",
    "# dropoff_longitude - Longitude do fim da viagem\n",
    "# dropoff_latitude - Latitude do fim da viagem\n",
    "# payment_type - Tipo de pagamento \n",
    "# fare_amount - Valor das tarifas da viagem\n",
    "# surcharge - Valor das sobretaxas da viagem\n",
    "# mta_tax - Imposto cobrado a serviços prestados da área dos transportes\n",
    "# tip_amount - Valor da gorjeta\n",
    "# tolls_amount - Valor das portagens da viagem\n",
    "# total_amount - Total pago pela viagem"
   ]
  },
  {
   "cell_type": "code",
   "execution_count": 6,
   "id": "3729fb77-9756-4d8a-8a39-9ac768d7e49b",
   "metadata": {
    "execution": {
     "iopub.execute_input": "2022-04-09T20:55:04.692567Z",
     "iopub.status.busy": "2022-04-09T20:55:04.692341Z",
     "iopub.status.idle": "2022-04-09T20:55:30.131478Z",
     "shell.execute_reply": "2022-04-09T20:55:30.130685Z",
     "shell.execute_reply.started": "2022-04-09T20:55:04.692544Z"
    },
    "tags": []
   },
   "outputs": [
    {
     "data": {
      "application/vnd.jupyter.widget-view+json": {
       "model_id": "a850801d9670437dbf30c99401f48f28",
       "version_major": 2,
       "version_minor": 0
      },
      "text/plain": [
       "VBox()"
      ]
     },
     "metadata": {},
     "output_type": "display_data"
    },
    {
     "data": {
      "application/vnd.jupyter.widget-view+json": {
       "model_id": "",
       "version_major": 2,
       "version_minor": 0
      },
      "text/plain": [
       "FloatProgress(value=0.0, bar_style='info', description='Progress:', layout=Layout(height='25px', width='50%'),…"
      ]
     },
     "metadata": {},
     "output_type": "display_data"
    },
    {
     "name": "stdout",
     "output_type": "stream",
     "text": [
      "[25795242, 12484250]"
     ]
    }
   ],
   "source": [
    "# Vamos ver se existem NULLS\n",
    "\n",
    "[taxis_and_limosines.count(), taxis_and_limosines.dropna().count()]\n",
    "\n",
    "# Quase metade das linhas do dataset inteiro têm pelo menos um registo NULL"
   ]
  },
  {
   "cell_type": "code",
   "execution_count": 8,
   "id": "630a8e6c-bede-495b-9079-913ed99bba5c",
   "metadata": {
    "execution": {
     "iopub.execute_input": "2022-04-09T20:55:54.931815Z",
     "iopub.status.busy": "2022-04-09T20:55:54.931560Z",
     "iopub.status.idle": "2022-04-09T20:55:55.710731Z",
     "shell.execute_reply": "2022-04-09T20:55:55.710025Z",
     "shell.execute_reply.started": "2022-04-09T20:55:54.931791Z"
    },
    "tags": []
   },
   "outputs": [
    {
     "data": {
      "application/vnd.jupyter.widget-view+json": {
       "model_id": "332c33359f5c44fbae0730ac1d744ed2",
       "version_major": 2,
       "version_minor": 0
      },
      "text/plain": [
       "VBox()"
      ]
     },
     "metadata": {},
     "output_type": "display_data"
    },
    {
     "data": {
      "application/vnd.jupyter.widget-view+json": {
       "model_id": "",
       "version_major": 2,
       "version_minor": 0
      },
      "text/plain": [
       "FloatProgress(value=0.0, bar_style='info', description='Progress:', layout=Layout(height='25px', width='50%'),…"
      ]
     },
     "metadata": {},
     "output_type": "display_data"
    }
   ],
   "source": [
    "# Adição da variável Trip Duration à subamostra para efeitos de implementação do algoritmo\n",
    "\n",
    "taxis_and_limosines = taxis_and_limosines.withColumn(' pickup_datetime', to_timestamp(\" pickup_datetime\",\"yyyy-MM-dd HH:mm:ss\"))\n",
    "taxis_and_limosines = taxis_and_limosines.withColumn(' dropoff_datetime',to_timestamp(\" dropoff_datetime\",\"yyyy-MM-dd HH:mm:ss\"))\n",
    "taxis_and_limosines = taxis_and_limosines.withColumn(' trip_duration',col(\" dropoff_datetime\").cast(\"long\") - col(' pickup_datetime').cast(\"long\"))"
   ]
  },
  {
   "cell_type": "code",
   "execution_count": 9,
   "id": "942d2c70-e052-4838-9afe-f1ab6e480737",
   "metadata": {
    "execution": {
     "iopub.execute_input": "2022-04-09T20:56:03.036465Z",
     "iopub.status.busy": "2022-04-09T20:56:03.036142Z",
     "iopub.status.idle": "2022-04-09T20:56:14.402972Z",
     "shell.execute_reply": "2022-04-09T20:56:14.402382Z",
     "shell.execute_reply.started": "2022-04-09T20:56:03.036426Z"
    },
    "tags": []
   },
   "outputs": [
    {
     "data": {
      "application/vnd.jupyter.widget-view+json": {
       "model_id": "4c253b028a2948879fd7729ff880c4ed",
       "version_major": 2,
       "version_minor": 0
      },
      "text/plain": [
       "VBox()"
      ]
     },
     "metadata": {},
     "output_type": "display_data"
    },
    {
     "data": {
      "application/vnd.jupyter.widget-view+json": {
       "model_id": "",
       "version_major": 2,
       "version_minor": 0
      },
      "text/plain": [
       "FloatProgress(value=0.0, bar_style='info', description='Progress:', layout=Layout(height='25px', width='50%'),…"
      ]
     },
     "metadata": {},
     "output_type": "display_data"
    },
    {
     "name": "stdout",
     "output_type": "stream",
     "text": [
      "+----------+\n",
      "| rate_code|\n",
      "+----------+\n",
      "|         2|\n",
      "|         5|\n",
      "|         4|\n",
      "|       210|\n",
      "|         1|\n",
      "|         6|\n",
      "|       208|\n",
      "|         3|\n",
      "|         0|\n",
      "|         7|\n",
      "|         9|\n",
      "|         8|\n",
      "|       221|\n",
      "+----------+"
     ]
    }
   ],
   "source": [
    "# Valores na coluna rate_count\n",
    "\n",
    "taxis_and_limosines.select(taxis_and_limosines.columns[7]).distinct().show()"
   ]
  },
  {
   "cell_type": "code",
   "execution_count": 10,
   "id": "7e9089a6-e67e-4d77-8d73-2ef9998f7b60",
   "metadata": {
    "execution": {
     "iopub.execute_input": "2022-04-09T20:56:24.080823Z",
     "iopub.status.busy": "2022-04-09T20:56:24.080573Z",
     "iopub.status.idle": "2022-04-09T20:56:24.156535Z",
     "shell.execute_reply": "2022-04-09T20:56:24.155673Z",
     "shell.execute_reply.started": "2022-04-09T20:56:24.080798Z"
    },
    "tags": []
   },
   "outputs": [
    {
     "data": {
      "application/vnd.jupyter.widget-view+json": {
       "model_id": "4dc6171f15394c1e8a95079ff73594d4",
       "version_major": 2,
       "version_minor": 0
      },
      "text/plain": [
       "VBox()"
      ]
     },
     "metadata": {},
     "output_type": "display_data"
    },
    {
     "data": {
      "application/vnd.jupyter.widget-view+json": {
       "model_id": "",
       "version_major": 2,
       "version_minor": 0
      },
      "text/plain": [
       "FloatProgress(value=0.0, bar_style='info', description='Progress:', layout=Layout(height='25px', width='50%'),…"
      ]
     },
     "metadata": {},
     "output_type": "display_data"
    }
   ],
   "source": [
    "# Existem valores inválidos no dataset para esta coluna (rate_code), vamos eliminá-los caso apareçam na nossa subamostra\n",
    "\n",
    "taxis_and_limosines = taxis_and_limosines[taxis_and_limosines[' rate_code'] < 7]"
   ]
  },
  {
   "cell_type": "code",
   "execution_count": 12,
   "id": "c10c0139-8081-4780-a53a-0066734410c0",
   "metadata": {
    "execution": {
     "iopub.execute_input": "2022-04-09T20:56:49.000069Z",
     "iopub.status.busy": "2022-04-09T20:56:48.999844Z",
     "iopub.status.idle": "2022-04-09T20:57:00.324295Z",
     "shell.execute_reply": "2022-04-09T20:57:00.323575Z",
     "shell.execute_reply.started": "2022-04-09T20:56:49.000046Z"
    },
    "tags": []
   },
   "outputs": [
    {
     "data": {
      "application/vnd.jupyter.widget-view+json": {
       "model_id": "45729b96be4b44cd827ea6d8041a869d",
       "version_major": 2,
       "version_minor": 0
      },
      "text/plain": [
       "VBox()"
      ]
     },
     "metadata": {},
     "output_type": "display_data"
    },
    {
     "data": {
      "application/vnd.jupyter.widget-view+json": {
       "model_id": "",
       "version_major": 2,
       "version_minor": 0
      },
      "text/plain": [
       "FloatProgress(value=0.0, bar_style='info', description='Progress:', layout=Layout(height='25px', width='50%'),…"
      ]
     },
     "metadata": {},
     "output_type": "display_data"
    },
    {
     "name": "stdout",
     "output_type": "stream",
     "text": [
      "+----------+\n",
      "| rate_code|\n",
      "+----------+\n",
      "|         2|\n",
      "|         5|\n",
      "|         4|\n",
      "|         1|\n",
      "|         6|\n",
      "|         3|\n",
      "|         0|\n",
      "+----------+"
     ]
    }
   ],
   "source": [
    "taxis_and_limosines.select(taxis_and_limosines.columns[7]).distinct().show()"
   ]
  },
  {
   "cell_type": "code",
   "execution_count": 11,
   "id": "fe356d28-5e65-49a1-b0fa-6ecea2cd76a6",
   "metadata": {
    "execution": {
     "iopub.execute_input": "2022-04-09T20:56:27.732304Z",
     "iopub.status.busy": "2022-04-09T20:56:27.732082Z",
     "iopub.status.idle": "2022-04-09T20:56:39.123217Z",
     "shell.execute_reply": "2022-04-09T20:56:39.122608Z",
     "shell.execute_reply.started": "2022-04-09T20:56:27.732281Z"
    },
    "tags": []
   },
   "outputs": [
    {
     "data": {
      "application/vnd.jupyter.widget-view+json": {
       "model_id": "705a5706a8324127bd3feb09fe9991cb",
       "version_major": 2,
       "version_minor": 0
      },
      "text/plain": [
       "VBox()"
      ]
     },
     "metadata": {},
     "output_type": "display_data"
    },
    {
     "data": {
      "application/vnd.jupyter.widget-view+json": {
       "model_id": "",
       "version_major": 2,
       "version_minor": 0
      },
      "text/plain": [
       "FloatProgress(value=0.0, bar_style='info', description='Progress:', layout=Layout(height='25px', width='50%'),…"
      ]
     },
     "metadata": {},
     "output_type": "display_data"
    },
    {
     "name": "stdout",
     "output_type": "stream",
     "text": [
      "+-------------+\n",
      "| payment_type|\n",
      "+-------------+\n",
      "|          DIS|\n",
      "|          UNK|\n",
      "|          CRD|\n",
      "|          CSH|\n",
      "|          NOC|\n",
      "+-------------+"
     ]
    }
   ],
   "source": [
    "# Diferentes tipos de pagamento utilizados\n",
    "\n",
    "taxis_and_limosines.select(taxis_and_limosines.columns[11]).distinct().show()"
   ]
  },
  {
   "cell_type": "code",
   "execution_count": 13,
   "id": "8c9c42bd-68bb-4b57-a86c-4c44106153eb",
   "metadata": {
    "execution": {
     "iopub.execute_input": "2022-04-09T20:57:17.533705Z",
     "iopub.status.busy": "2022-04-09T20:57:17.533473Z",
     "iopub.status.idle": "2022-04-09T20:57:28.906284Z",
     "shell.execute_reply": "2022-04-09T20:57:28.905599Z",
     "shell.execute_reply.started": "2022-04-09T20:57:17.533681Z"
    },
    "tags": []
   },
   "outputs": [
    {
     "data": {
      "application/vnd.jupyter.widget-view+json": {
       "model_id": "e450293d78314876afe4ee03479f5f22",
       "version_major": 2,
       "version_minor": 0
      },
      "text/plain": [
       "VBox()"
      ]
     },
     "metadata": {},
     "output_type": "display_data"
    },
    {
     "data": {
      "application/vnd.jupyter.widget-view+json": {
       "model_id": "",
       "version_major": 2,
       "version_minor": 0
      },
      "text/plain": [
       "FloatProgress(value=0.0, bar_style='info', description='Progress:', layout=Layout(height='25px', width='50%'),…"
      ]
     },
     "metadata": {},
     "output_type": "display_data"
    },
    {
     "name": "stdout",
     "output_type": "stream",
     "text": [
      "+----------------+\n",
      "| passenger_count|\n",
      "+----------------+\n",
      "|               0|\n",
      "|               1|\n",
      "|               2|\n",
      "|               3|\n",
      "|               4|\n",
      "|               5|\n",
      "|               6|\n",
      "|               7|\n",
      "|               8|\n",
      "|               9|\n",
      "+----------------+"
     ]
    }
   ],
   "source": [
    "# Informação relevante sobre a coluna_passenger\n",
    "\n",
    "taxis_and_limosines.select(taxis_and_limosines.columns[3]).distinct().sort(taxis_and_limosines.columns[3]).show()"
   ]
  },
  {
   "cell_type": "code",
   "execution_count": 14,
   "id": "4f928f76-af9c-48bc-9a00-fec8bd636b47",
   "metadata": {
    "execution": {
     "iopub.execute_input": "2022-04-09T20:57:39.272262Z",
     "iopub.status.busy": "2022-04-09T20:57:39.271940Z",
     "iopub.status.idle": "2022-04-09T20:57:50.636171Z",
     "shell.execute_reply": "2022-04-09T20:57:50.635451Z",
     "shell.execute_reply.started": "2022-04-09T20:57:39.272225Z"
    },
    "tags": []
   },
   "outputs": [
    {
     "data": {
      "application/vnd.jupyter.widget-view+json": {
       "model_id": "c01e083b14a6481f8d71800ea724c168",
       "version_major": 2,
       "version_minor": 0
      },
      "text/plain": [
       "VBox()"
      ]
     },
     "metadata": {},
     "output_type": "display_data"
    },
    {
     "data": {
      "application/vnd.jupyter.widget-view+json": {
       "model_id": "",
       "version_major": 2,
       "version_minor": 0
      },
      "text/plain": [
       "FloatProgress(value=0.0, bar_style='info', description='Progress:', layout=Layout(height='25px', width='50%'),…"
      ]
     },
     "metadata": {},
     "output_type": "display_data"
    },
    {
     "name": "stdout",
     "output_type": "stream",
     "text": [
      "-RECORD 0-----------------------\n",
      "  store_and_fwd_flag | null     \n",
      " count               | 13310989 \n",
      "-RECORD 1-----------------------\n",
      "  store_and_fwd_flag | N        \n",
      " count               | 12216380 \n",
      "-RECORD 2-----------------------\n",
      "  store_and_fwd_flag | Y        \n",
      " count               | 267838"
     ]
    }
   ],
   "source": [
    "# Informação relevante sobre a coluna store_and_fwd_flag\n",
    "\n",
    "taxis_and_limosines.groupBy(taxis_and_limosines.columns[8]).count().show(vertical=True)"
   ]
  },
  {
   "cell_type": "code",
   "execution_count": 15,
   "id": "5d53a407-6582-46a7-9ccd-ff14f4cb61e2",
   "metadata": {
    "execution": {
     "iopub.execute_input": "2022-04-09T20:57:59.225298Z",
     "iopub.status.busy": "2022-04-09T20:57:59.225075Z",
     "iopub.status.idle": "2022-04-09T21:01:25.467740Z",
     "shell.execute_reply": "2022-04-09T21:01:25.466869Z",
     "shell.execute_reply.started": "2022-04-09T20:57:59.225275Z"
    },
    "tags": []
   },
   "outputs": [
    {
     "data": {
      "application/vnd.jupyter.widget-view+json": {
       "model_id": "0564fcdb39a84a2e8058c4234c1665c7",
       "version_major": 2,
       "version_minor": 0
      },
      "text/plain": [
       "VBox()"
      ]
     },
     "metadata": {},
     "output_type": "display_data"
    },
    {
     "data": {
      "application/vnd.jupyter.widget-view+json": {
       "model_id": "",
       "version_major": 2,
       "version_minor": 0
      },
      "text/plain": [
       "FloatProgress(value=0.0, bar_style='info', description='Progress:', layout=Layout(height='25px', width='50%'),…"
      ]
     },
     "metadata": {},
     "output_type": "display_data"
    },
    {
     "name": "stdout",
     "output_type": "stream",
     "text": [
      "+-------+---------+\n",
      "|summary|vendor_id|\n",
      "+-------+---------+\n",
      "|  count| 25795207|\n",
      "|   mean|     null|\n",
      "| stddev|     null|\n",
      "|    min|      CMT|\n",
      "|    max|      VTS|\n",
      "+-------+---------+\n",
      "\n",
      "+-------+\n",
      "|summary|\n",
      "+-------+\n",
      "|  count|\n",
      "|   mean|\n",
      "| stddev|\n",
      "|    min|\n",
      "|    max|\n",
      "+-------+\n",
      "\n",
      "+-------+\n",
      "|summary|\n",
      "+-------+\n",
      "|  count|\n",
      "|   mean|\n",
      "| stddev|\n",
      "|    min|\n",
      "|    max|\n",
      "+-------+\n",
      "\n",
      "+-------+------------------+\n",
      "|summary|   passenger_count|\n",
      "+-------+------------------+\n",
      "|  count|          25795207|\n",
      "|   mean|1.7060083681437408|\n",
      "| stddev| 1.359855334681554|\n",
      "|    min|                 0|\n",
      "|    max|                 9|\n",
      "+-------+------------------+\n",
      "\n",
      "+-------+-----------------+\n",
      "|summary|    trip_distance|\n",
      "+-------+-----------------+\n",
      "|  count|         25795207|\n",
      "|   mean|3.028266330640442|\n",
      "| stddev|3.569097561514351|\n",
      "|    min|              0.0|\n",
      "|    max|            100.0|\n",
      "+-------+-----------------+\n",
      "\n",
      "+-------+------------------+\n",
      "|summary|  pickup_longitude|\n",
      "+-------+------------------+\n",
      "|  count|          25795207|\n",
      "|   mean|-72.00556164425669|\n",
      "| stddev|11.908836145635236|\n",
      "|    min|       -139.483269|\n",
      "|    max|        154.100756|\n",
      "+-------+------------------+\n",
      "\n",
      "+-------+-----------------+\n",
      "|summary|  pickup_latitude|\n",
      "+-------+-----------------+\n",
      "|  count|         25795207|\n",
      "|   mean|39.66473268242346|\n",
      "| stddev|6.559548644933747|\n",
      "|    min|       -23.421967|\n",
      "|    max|        84.445247|\n",
      "+-------+-----------------+\n",
      "\n",
      "+-------+------------------+\n",
      "|summary|         rate_code|\n",
      "+-------+------------------+\n",
      "|  count|          25795207|\n",
      "|   mean|1.0368761530000514|\n",
      "| stddev|0.2771523672356681|\n",
      "|    min|                 0|\n",
      "|    max|                 6|\n",
      "+-------+------------------+\n",
      "\n",
      "+-------+-------------------+\n",
      "|summary| store_and_fwd_flag|\n",
      "+-------+-------------------+\n",
      "|  count|           12484218|\n",
      "|   mean|               null|\n",
      "| stddev|               null|\n",
      "|    min|                  N|\n",
      "|    max|                  Y|\n",
      "+-------+-------------------+\n",
      "\n",
      "+-------+------------------+\n",
      "|summary| dropoff_longitude|\n",
      "+-------+------------------+\n",
      "|  count|          25795207|\n",
      "|   mean|-72.05056623006818|\n",
      "| stddev|11.776390822184618|\n",
      "|    min|       -779.533332|\n",
      "|    max|        154.100756|\n",
      "+-------+------------------+\n",
      "\n",
      "+-------+-----------------+\n",
      "|summary| dropoff_latitude|\n",
      "+-------+-----------------+\n",
      "|  count|         25795207|\n",
      "|   mean|39.69060191375338|\n",
      "| stddev|6.488043251834995|\n",
      "|    min|       -23.421967|\n",
      "|    max|       467.633332|\n",
      "+-------+-----------------+\n",
      "\n",
      "+-------+-------------+\n",
      "|summary| payment_type|\n",
      "+-------+-------------+\n",
      "|  count|     25795207|\n",
      "|   mean|         null|\n",
      "| stddev|         null|\n",
      "|    min|          CRD|\n",
      "|    max|          UNK|\n",
      "+-------+-------------+\n",
      "\n",
      "+-------+------------------+\n",
      "|summary|       fare_amount|\n",
      "+-------+------------------+\n",
      "|  count|          25795207|\n",
      "|   mean|12.759186797764407|\n",
      "| stddev|10.668856349702967|\n",
      "|    min|               2.5|\n",
      "|    max|             500.0|\n",
      "+-------+------------------+\n",
      "\n",
      "+-------+------------------+\n",
      "|summary|         surcharge|\n",
      "+-------+------------------+\n",
      "|  count|          25795207|\n",
      "|   mean|0.3259601591877127|\n",
      "| stddev|0.3630130238840288|\n",
      "|    min|               0.0|\n",
      "|    max|              15.5|\n",
      "+-------+------------------+\n",
      "\n",
      "+-------+-------------------+\n",
      "|summary|            mta_tax|\n",
      "+-------+-------------------+\n",
      "|  count|           25795207|\n",
      "|   mean|0.49803031237547346|\n",
      "| stddev|0.03132034771444893|\n",
      "|    min|                0.0|\n",
      "|    max|                0.5|\n",
      "+-------+-------------------+\n",
      "\n",
      "+-------+------------------+\n",
      "|summary|        tip_amount|\n",
      "+-------+------------------+\n",
      "|  count|          25795207|\n",
      "|   mean|1.4844826630003576|\n",
      "| stddev|2.3284009436168387|\n",
      "|    min|               0.0|\n",
      "|    max|             200.0|\n",
      "+-------+------------------+\n",
      "\n",
      "+-------+------------------+\n",
      "|summary|      tolls_amount|\n",
      "+-------+------------------+\n",
      "|  count|          25795207|\n",
      "|   mean|0.2882774241739735|\n",
      "| stddev|1.3001533468443176|\n",
      "|    min|               0.0|\n",
      "|    max|              20.0|\n",
      "+-------+------------------+\n",
      "\n",
      "+-------+------------------+\n",
      "|summary|      total_amount|\n",
      "+-------+------------------+\n",
      "|  count|          25795207|\n",
      "|   mean| 15.35619476207311|\n",
      "| stddev|12.842169780742521|\n",
      "|    min|               2.5|\n",
      "|    max|             597.0|\n",
      "+-------+------------------+\n",
      "\n",
      "+-------+-----------------+\n",
      "|summary|    trip_duration|\n",
      "+-------+-----------------+\n",
      "|  count|         25795207|\n",
      "|   mean|778.4846959359543|\n",
      "| stddev| 6614.14062636973|\n",
      "|    min|         -7595670|\n",
      "|    max|           607380|\n",
      "+-------+-----------------+"
     ]
    }
   ],
   "source": [
    "# Medidas descritivas para cada coluna\n",
    "\n",
    "for cl in taxis_and_limosines.columns:\n",
    "    taxis_and_limosines.describe(cl).show()"
   ]
  },
  {
   "cell_type": "code",
   "execution_count": 16,
   "id": "f6034473-09f0-4afa-b770-c31b3a3d8393",
   "metadata": {
    "execution": {
     "iopub.execute_input": "2022-04-09T21:02:51.978858Z",
     "iopub.status.busy": "2022-04-09T21:02:51.978625Z",
     "iopub.status.idle": "2022-04-09T21:02:52.242312Z",
     "shell.execute_reply": "2022-04-09T21:02:52.241586Z",
     "shell.execute_reply.started": "2022-04-09T21:02:51.978836Z"
    },
    "tags": []
   },
   "outputs": [
    {
     "data": {
      "application/vnd.jupyter.widget-view+json": {
       "model_id": "f974d8292280402c8b45deccd0ec311d",
       "version_major": 2,
       "version_minor": 0
      },
      "text/plain": [
       "VBox()"
      ]
     },
     "metadata": {},
     "output_type": "display_data"
    },
    {
     "data": {
      "application/vnd.jupyter.widget-view+json": {
       "model_id": "",
       "version_major": 2,
       "version_minor": 0
      },
      "text/plain": [
       "FloatProgress(value=0.0, bar_style='info', description='Progress:', layout=Layout(height='25px', width='50%'),…"
      ]
     },
     "metadata": {},
     "output_type": "display_data"
    }
   ],
   "source": [
    "# Eliminação dos valores incorretos da variável trip_duration\n",
    "\n",
    "taxis_and_limosines = taxis_and_limosines[taxis_and_limosines[' trip_duration'] <= 36000]\n",
    "taxis_and_limosines = taxis_and_limosines[taxis_and_limosines[' trip_duration'] > 0]\n",
    "\n",
    "taxis_and_limosines = taxis_and_limosines[taxis_and_limosines[' trip_distance'] > 0]"
   ]
  },
  {
   "cell_type": "code",
   "execution_count": 19,
   "id": "05666dc9-4f6c-421c-aa15-37968dec760a",
   "metadata": {
    "collapsed": true,
    "execution": {
     "iopub.execute_input": "2022-04-09T21:06:28.372168Z",
     "iopub.status.busy": "2022-04-09T21:06:28.371941Z",
     "iopub.status.idle": "2022-04-09T21:07:19.835987Z",
     "shell.execute_reply": "2022-04-09T21:07:19.835337Z",
     "shell.execute_reply.started": "2022-04-09T21:06:28.372144Z"
    },
    "jupyter": {
     "outputs_hidden": true
    },
    "tags": []
   },
   "outputs": [
    {
     "data": {
      "application/vnd.jupyter.widget-view+json": {
       "model_id": "788b9505ad0b4b2589e7a7f8222b59f8",
       "version_major": 2,
       "version_minor": 0
      },
      "text/plain": [
       "VBox()"
      ]
     },
     "metadata": {},
     "output_type": "display_data"
    },
    {
     "data": {
      "application/vnd.jupyter.widget-view+json": {
       "model_id": "",
       "version_major": 2,
       "version_minor": 0
      },
      "text/plain": [
       "FloatProgress(value=0.0, bar_style='info', description='Progress:', layout=Layout(height='25px', width='50%'),…"
      ]
     },
     "metadata": {},
     "output_type": "display_data"
    },
    {
     "name": "stdout",
     "output_type": "stream",
     "text": [
      "-RECORD 0-------------------------------------\n",
      "  payment_type         | DIS                  \n",
      " sum( passenger_count) | 23484                \n",
      " sum( trip_distance)   | 72490.10000000002    \n",
      " sum( fare_amount)     | 275321.31            \n",
      " sum( surcharge)       | 6105.0               \n",
      " sum( mta_tax)         | 8996.0               \n",
      " sum( tip_amount)      | 47.62                \n",
      " sum( tolls_amount)    | 8405.490000000009    \n",
      " sum( total_amount)    | 298875.4200000006    \n",
      "-RECORD 1-------------------------------------\n",
      "  payment_type         | UNK                  \n",
      " sum( passenger_count) | 249015               \n",
      " sum( trip_distance)   | 339824.03000000014   \n",
      " sum( fare_amount)     | 1439359.8800000001   \n",
      " sum( surcharge)       | 38498.5              \n",
      " sum( mta_tax)         | 59601.5              \n",
      " sum( tip_amount)      | 258379.25999999998   \n",
      " sum( tolls_amount)    | 24028.08999999999    \n",
      " sum( total_amount)    | 1822132.2999999993   \n",
      "-RECORD 2-------------------------------------\n",
      "  payment_type         | CRD                  \n",
      " sum( passenger_count) | 24482326             \n",
      " sum( trip_distance)   | 4.744829190999967E7  \n",
      " sum( fare_amount)     | 1.9468955206E8       \n",
      " sum( surcharge)       | 4882726.960000001    \n",
      " sum( mta_tax)         | 7288800.5            \n",
      " sum( tip_amount)      | 3.760805154000499E7  \n",
      " sum( tolls_amount)    | 4936305.379998822    \n",
      " sum( total_amount)    | 2.494054384299839E8  \n",
      "-RECORD 3-------------------------------------\n",
      "  payment_type         | CSH                  \n",
      " sum( passenger_count) | 18932590             \n",
      " sum( trip_distance)   | 3.0050304750000093E7 \n",
      " sum( fare_amount)     | 1.2839827133999996E8 \n",
      " sum( surcharge)       | 3421665.3600000003   \n",
      " sum( mta_tax)         | 5389638.0            \n",
      " sum( tip_amount)      | 2965.9300000000007   \n",
      " sum( tolls_amount)    | 2365523.230000534    \n",
      " sum( total_amount)    | 1.3958242813002086E8 \n",
      "-RECORD 4-------------------------------------\n",
      "  payment_type         | NOC                  \n",
      " sum( passenger_count) | 70667                \n",
      " sum( trip_distance)   | 192433.00000000026   \n",
      " sum( fare_amount)     | 739754.1599999999    \n",
      " sum( surcharge)       | 19651.5              \n",
      " sum( mta_tax)         | 26833.5              \n",
      " sum( tip_amount)      | 320.96000000000004   \n",
      " sum( tolls_amount)    | 19368.089999999967   \n",
      " sum( total_amount)    | 805928.2100000032    \n",
      "\n",
      "                             0            1            2            3        4\n",
      " payment_type              DIS          UNK          CRD          CSH      NOC\n",
      "sum( passenger_count)    23484       249015     24482326     18932590    70667\n",
      "sum( trip_distance)    72490.1       339824  4.74483e+07  3.00503e+07   192433\n",
      "sum( fare_amount)       275321  1.43936e+06   1.9469e+08  1.28398e+08   739754\n",
      "sum( surcharge)           6105      38498.5  4.88273e+06  3.42167e+06  19651.5\n",
      "sum( mta_tax)             8996      59601.5   7.2888e+06  5.38964e+06  26833.5\n",
      "sum( tip_amount)         47.62       258379  3.76081e+07      2965.93   320.96\n",
      "sum( tolls_amount)     8405.49      24028.1  4.93631e+06  2.36552e+06  19368.1\n",
      "sum( total_amount)      298875  1.82213e+06  2.49405e+08  1.39582e+08   805928"
     ]
    }
   ],
   "source": [
    "# Informação relevante sobre a coluna payment_type\n",
    "\n",
    "payment_method = taxis_and_limosines.select(' passenger_count',' trip_distance',' fare_amount',' surcharge',\n",
    "                                                       ' mta_tax',' tip_amount',' tolls_amount', \n",
    "                                                       ' total_amount',' payment_type').groupBy(taxis_and_limosines.columns[11]).sum()\n",
    "\n",
    "payment_method.show(vertical=True)\n",
    "\n",
    "payment_method_pandas = payment_method.toPandas()\n",
    "\n",
    "payment_method_final = payment_method_pandas.transpose()\n",
    "\n",
    "print(payment_method_final)"
   ]
  },
  {
   "cell_type": "code",
   "execution_count": 21,
   "id": "bc7886e8-1300-4bb0-8525-532f99466338",
   "metadata": {
    "execution": {
     "iopub.execute_input": "2022-04-09T21:08:02.146075Z",
     "iopub.status.busy": "2022-04-09T21:08:02.145846Z",
     "iopub.status.idle": "2022-04-09T21:08:02.204561Z",
     "shell.execute_reply": "2022-04-09T21:08:02.203870Z",
     "shell.execute_reply.started": "2022-04-09T21:08:02.146052Z"
    },
    "tags": []
   },
   "outputs": [
    {
     "data": {
      "application/vnd.jupyter.widget-view+json": {
       "model_id": "0ee6f7ae36bf44138e2b8bb1617e6092",
       "version_major": 2,
       "version_minor": 0
      },
      "text/plain": [
       "VBox()"
      ]
     },
     "metadata": {},
     "output_type": "display_data"
    },
    {
     "data": {
      "application/vnd.jupyter.widget-view+json": {
       "model_id": "",
       "version_major": 2,
       "version_minor": 0
      },
      "text/plain": [
       "FloatProgress(value=0.0, bar_style='info', description='Progress:', layout=Layout(height='25px', width='50%'),…"
      ]
     },
     "metadata": {},
     "output_type": "display_data"
    },
    {
     "name": "stdout",
     "output_type": "stream",
     "text": [
      "DIS 12.726768012263696\n",
      "UNK 7.317359596811434\n",
      "CRD 10.187162707905447\n",
      "CSH 7.3726007973563465\n",
      "NOC 11.404590685893035"
     ]
    }
   ],
   "source": [
    "valores_medios = []\n",
    "\n",
    "for i in range(0, payment_method_final.shape[1]):\n",
    "    valores_medios.append(payment_method_final[i][8] / payment_method_final[i][1])\n",
    "    print(payment_method_final[i][0], payment_method_final[i][8] / payment_method_final[i][1])"
   ]
  },
  {
   "cell_type": "code",
   "execution_count": 24,
   "id": "5abda093-8b37-4315-973d-f4883183839b",
   "metadata": {
    "execution": {
     "iopub.execute_input": "2022-04-09T21:08:50.587644Z",
     "iopub.status.busy": "2022-04-09T21:08:50.587389Z",
     "iopub.status.idle": "2022-04-09T21:08:50.847413Z",
     "shell.execute_reply": "2022-04-09T21:08:50.846700Z",
     "shell.execute_reply.started": "2022-04-09T21:08:50.587620Z"
    },
    "tags": []
   },
   "outputs": [
    {
     "data": {
      "application/vnd.jupyter.widget-view+json": {
       "model_id": "691b3363616d4796919906b21f735bb0",
       "version_major": 2,
       "version_minor": 0
      },
      "text/plain": [
       "VBox()"
      ]
     },
     "metadata": {},
     "output_type": "display_data"
    },
    {
     "data": {
      "application/vnd.jupyter.widget-view+json": {
       "model_id": "",
       "version_major": 2,
       "version_minor": 0
      },
      "text/plain": [
       "FloatProgress(value=0.0, bar_style='info', description='Progress:', layout=Layout(height='25px', width='50%'),…"
      ]
     },
     "metadata": {},
     "output_type": "display_data"
    }
   ],
   "source": [
    "# Informação relevante sobre a coluna código de viagem\n",
    "\n",
    "rate_code = taxis_and_limosines.select(' passenger_count',' trip_distance',' fare_amount',' surcharge',\n",
    "                                                       ' mta_tax',' tip_amount',' tolls_amount', \n",
    "                                                       ' total_amount', ' rate_code').groupBy(taxis_and_limosines.columns[7]).sum().sort(taxis_and_limosines.columns[7])"
   ]
  },
  {
   "cell_type": "code",
   "execution_count": 25,
   "id": "1205e951-cbad-4721-b4a5-e7d778e77f73",
   "metadata": {
    "collapsed": true,
    "execution": {
     "iopub.execute_input": "2022-04-09T21:08:56.238805Z",
     "iopub.status.busy": "2022-04-09T21:08:56.238585Z",
     "iopub.status.idle": "2022-04-09T21:09:55.741141Z",
     "shell.execute_reply": "2022-04-09T21:09:55.740517Z",
     "shell.execute_reply.started": "2022-04-09T21:08:56.238782Z"
    },
    "jupyter": {
     "outputs_hidden": true
    },
    "tags": []
   },
   "outputs": [
    {
     "data": {
      "application/vnd.jupyter.widget-view+json": {
       "model_id": "6706cf91b62843acab3b5a28e3c7c00f",
       "version_major": 2,
       "version_minor": 0
      },
      "text/plain": [
       "VBox()"
      ]
     },
     "metadata": {},
     "output_type": "display_data"
    },
    {
     "data": {
      "application/vnd.jupyter.widget-view+json": {
       "model_id": "",
       "version_major": 2,
       "version_minor": 0
      },
      "text/plain": [
       "FloatProgress(value=0.0, bar_style='info', description='Progress:', layout=Layout(height='25px', width='50%'),…"
      ]
     },
     "metadata": {},
     "output_type": "display_data"
    },
    {
     "name": "stdout",
     "output_type": "stream",
     "text": [
      "-RECORD 0-------------------------------------\n",
      "  rate_code            | 0                    \n",
      " sum( passenger_count) | 956                  \n",
      " sum( trip_distance)   | 2856.799999999999    \n",
      " sum( fare_amount)     | 10758.4              \n",
      " sum( surcharge)       | 310.96000000000004   \n",
      " sum( mta_tax)         | 371.5                \n",
      " sum( tip_amount)      | 604.74               \n",
      " sum( tolls_amount)    | 129.44               \n",
      " sum( total_amount)    | 12175.04             \n",
      " sum( rate_code)       | 0                    \n",
      "-RECORD 1-------------------------------------\n",
      "  rate_code            | 1                    \n",
      " sum( passenger_count) | 42675561             \n",
      " sum( trip_distance)   | 6.768620935000041E7  \n",
      " sum( fare_amount)     | 2.928283296E8        \n",
      " sum( surcharge)       | 8356181.239999999    \n",
      " sum( mta_tax)         | 1.2509543E7          \n",
      " sum( tip_amount)      | 3.408820334000233E7  \n",
      " sum( tolls_amount)    | 4521409.160000311    \n",
      " sum( total_amount)    | 3.523100993699713E8  \n",
      " sum( rate_code)       | 25019725             \n",
      "-RECORD 2-------------------------------------\n",
      "  rate_code            | 2                    \n",
      " sum( passenger_count) | 933706               \n",
      " sum( trip_distance)   | 9089913.91           \n",
      " sum( fare_amount)     | 2.6476630699999996E7 \n",
      " sum( surcharge)       | 142.16               \n",
      " sum( mta_tax)         | 254681.5             \n",
      " sum( tip_amount)      | 3049320.8200000497   \n",
      " sum( tolls_amount)    | 2142592.4700005124   \n",
      " sum( total_amount)    | 3.192338648999839E7  \n",
      " sum( rate_code)       | 1019300              \n",
      "-RECORD 3-------------------------------------\n",
      "  rate_code            | 3                    \n",
      " sum( passenger_count) | 76508                \n",
      " sum( trip_distance)   | 701924.7700000003    \n",
      " sum( fare_amount)     | 2778297.0000000005   \n",
      " sum( surcharge)       | 8266.46              \n",
      " sum( mta_tax)         | 18.5                 \n",
      " sum( tip_amount)      | 362586.09            \n",
      " sum( tolls_amount)    | 462068.0499999999    \n",
      " sum( total_amount)    | 3611348.410000001    \n",
      " sum( rate_code)       | 125679               \n",
      "-RECORD 4-------------------------------------\n",
      "  rate_code            | 4                    \n",
      " sum( passenger_count) | 16700                \n",
      " sum( trip_distance)   | 165693.17999999996   \n",
      " sum( fare_amount)     | 617931.35            \n",
      " sum( surcharge)       | 3680.5               \n",
      " sum( mta_tax)         | 4891.0               \n",
      " sum( tip_amount)      | 59594.48999999998    \n",
      " sum( tolls_amount)    | 15591.19             \n",
      " sum( total_amount)    | 701750.7300000004    \n",
      " sum( rate_code)       | 39136                \n",
      "-RECORD 5-------------------------------------\n",
      "  rate_code            | 5                    \n",
      " sum( passenger_count) | 54518                \n",
      " sum( trip_distance)   | 456409.4800000001    \n",
      " sum( fare_amount)     | 2829549.250000001    \n",
      " sum( surcharge)       | 59.5                 \n",
      " sum( mta_tax)         | 4313.5               \n",
      " sum( tip_amount)      | 309305.91            \n",
      " sum( tolls_amount)    | 211807.87999999974   \n",
      " sum( total_amount)    | 3355040.9900000044   \n",
      " sum( rate_code)       | 189675               \n",
      "-RECORD 6-------------------------------------\n",
      "  rate_code            | 6                    \n",
      " sum( passenger_count) | 133                  \n",
      " sum( trip_distance)   | 336.30000000000007   \n",
      " sum( fare_amount)     | 762.45               \n",
      " sum( surcharge)       | 6.5                  \n",
      " sum( mta_tax)         | 50.5                 \n",
      " sum( tip_amount)      | 149.92000000000002   \n",
      " sum( tolls_amount)    | 32.089999999999996   \n",
      " sum( total_amount)    | 1001.4599999999999   \n",
      " sum( rate_code)       | 642                  \n",
      "\n",
      "                              0             1  ...           5        6\n",
      " rate_code                 0.00  1.000000e+00  ...        5.00     6.00\n",
      "sum( passenger_count)    956.00  4.267556e+07  ...    54518.00   133.00\n",
      "sum( trip_distance)     2856.80  6.768621e+07  ...   456409.48   336.30\n",
      "sum( fare_amount)      10758.40  2.928283e+08  ...  2829549.25   762.45\n",
      "sum( surcharge)          310.96  8.356181e+06  ...       59.50     6.50\n",
      "sum( mta_tax)            371.50  1.250954e+07  ...     4313.50    50.50\n",
      "sum( tip_amount)         604.74  3.408820e+07  ...   309305.91   149.92\n",
      "sum( tolls_amount)       129.44  4.521409e+06  ...   211807.88    32.09\n",
      "sum( total_amount)     12175.04  3.523101e+08  ...  3355040.99  1001.46\n",
      "sum( rate_code)            0.00  2.501972e+07  ...   189675.00   642.00\n",
      "\n",
      "[10 rows x 7 columns]"
     ]
    }
   ],
   "source": [
    "rate_code.show(vertical=True)\n",
    "\n",
    "rate_code_pandas = rate_code.toPandas()\n",
    "\n",
    "rate_code_final = rate_code_pandas.transpose()\n",
    "\n",
    "print(rate_code_final)"
   ]
  },
  {
   "cell_type": "code",
   "execution_count": 26,
   "id": "b97731c2-501a-41b0-a950-124b67a5513e",
   "metadata": {
    "execution": {
     "iopub.execute_input": "2022-04-09T21:10:04.139362Z",
     "iopub.status.busy": "2022-04-09T21:10:04.139088Z",
     "iopub.status.idle": "2022-04-09T21:10:04.195663Z",
     "shell.execute_reply": "2022-04-09T21:10:04.194893Z",
     "shell.execute_reply.started": "2022-04-09T21:10:04.139337Z"
    },
    "tags": []
   },
   "outputs": [
    {
     "data": {
      "application/vnd.jupyter.widget-view+json": {
       "model_id": "19f9b90bb1f74a84b0ba68e814b7821f",
       "version_major": 2,
       "version_minor": 0
      },
      "text/plain": [
       "VBox()"
      ]
     },
     "metadata": {},
     "output_type": "display_data"
    },
    {
     "data": {
      "application/vnd.jupyter.widget-view+json": {
       "model_id": "",
       "version_major": 2,
       "version_minor": 0
      },
      "text/plain": [
       "FloatProgress(value=0.0, bar_style='info', description='Progress:', layout=Layout(height='25px', width='50%'),…"
      ]
     },
     "metadata": {},
     "output_type": "display_data"
    },
    {
     "name": "stdout",
     "output_type": "stream",
     "text": [
      "0.0 12.735397489539748\n",
      "1.0 8.255546994917564\n",
      "2.0 34.18997681282801\n",
      "3.0 47.20223257698543\n",
      "4.0 42.021001796407205\n",
      "5.0 61.5400599801901\n",
      "6.0 7.529774436090226"
     ]
    }
   ],
   "source": [
    "valores_medios = []\n",
    "\n",
    "for i in range(0, rate_code_final.shape[1]):\n",
    "    valores_medios.append(rate_code_final[i][8] / rate_code_final[i][1])\n",
    "    print(rate_code_final[i][0], rate_code_final[i][8] / rate_code_final[i][1])"
   ]
  },
  {
   "cell_type": "code",
   "execution_count": 28,
   "id": "4ac5be1a-1f38-45dd-bb1c-1b1f09d984be",
   "metadata": {
    "collapsed": true,
    "execution": {
     "iopub.execute_input": "2022-04-09T21:12:14.198275Z",
     "iopub.status.busy": "2022-04-09T21:12:14.198047Z",
     "iopub.status.idle": "2022-04-09T21:13:01.646400Z",
     "shell.execute_reply": "2022-04-09T21:13:01.645878Z",
     "shell.execute_reply.started": "2022-04-09T21:12:14.198251Z"
    },
    "jupyter": {
     "outputs_hidden": true
    },
    "tags": []
   },
   "outputs": [
    {
     "data": {
      "application/vnd.jupyter.widget-view+json": {
       "model_id": "41eb7c55df3748edbf3eac14599da4d8",
       "version_major": 2,
       "version_minor": 0
      },
      "text/plain": [
       "VBox()"
      ]
     },
     "metadata": {},
     "output_type": "display_data"
    },
    {
     "data": {
      "application/vnd.jupyter.widget-view+json": {
       "model_id": "",
       "version_major": 2,
       "version_minor": 0
      },
      "text/plain": [
       "FloatProgress(value=0.0, bar_style='info', description='Progress:', layout=Layout(height='25px', width='50%'),…"
      ]
     },
     "metadata": {},
     "output_type": "display_data"
    },
    {
     "name": "stderr",
     "output_type": "stream",
     "text": [
      "An error was encountered:\n",
      "An error occurred while calling o217.collectToPython.\n",
      ": org.apache.spark.SparkException: Job aborted due to stage failure: Total size of serialized results of 20 tasks (1073.8 MiB) is bigger than spark.driver.maxResultSize (1024.0 MiB)\n",
      "\tat org.apache.spark.scheduler.DAGScheduler.failJobAndIndependentStages(DAGScheduler.scala:2470)\n",
      "\tat org.apache.spark.scheduler.DAGScheduler.$anonfun$abortStage$2(DAGScheduler.scala:2419)\n",
      "\tat org.apache.spark.scheduler.DAGScheduler.$anonfun$abortStage$2$adapted(DAGScheduler.scala:2418)\n",
      "\tat scala.collection.mutable.ResizableArray.foreach(ResizableArray.scala:62)\n",
      "\tat scala.collection.mutable.ResizableArray.foreach$(ResizableArray.scala:55)\n",
      "\tat scala.collection.mutable.ArrayBuffer.foreach(ArrayBuffer.scala:49)\n",
      "\tat org.apache.spark.scheduler.DAGScheduler.abortStage(DAGScheduler.scala:2418)\n",
      "\tat org.apache.spark.scheduler.DAGScheduler.$anonfun$handleTaskSetFailed$1(DAGScheduler.scala:1125)\n",
      "\tat org.apache.spark.scheduler.DAGScheduler.$anonfun$handleTaskSetFailed$1$adapted(DAGScheduler.scala:1125)\n",
      "\tat scala.Option.foreach(Option.scala:407)\n",
      "\tat org.apache.spark.scheduler.DAGScheduler.handleTaskSetFailed(DAGScheduler.scala:1125)\n",
      "\tat org.apache.spark.scheduler.DAGSchedulerEventProcessLoop.doOnReceive(DAGScheduler.scala:2684)\n",
      "\tat org.apache.spark.scheduler.DAGSchedulerEventProcessLoop.onReceive(DAGScheduler.scala:2626)\n",
      "\tat org.apache.spark.scheduler.DAGSchedulerEventProcessLoop.onReceive(DAGScheduler.scala:2615)\n",
      "\tat org.apache.spark.util.EventLoop$$anon$1.run(EventLoop.scala:49)\n",
      "\tat org.apache.spark.scheduler.DAGScheduler.runJob(DAGScheduler.scala:914)\n",
      "\tat org.apache.spark.SparkContext.runJob(SparkContext.scala:2241)\n",
      "\tat org.apache.spark.SparkContext.runJob(SparkContext.scala:2262)\n",
      "\tat org.apache.spark.SparkContext.runJob(SparkContext.scala:2281)\n",
      "\tat org.apache.spark.SparkContext.runJob(SparkContext.scala:2306)\n",
      "\tat org.apache.spark.rdd.RDD.$anonfun$collect$1(RDD.scala:1030)\n",
      "\tat org.apache.spark.rdd.RDDOperationScope$.withScope(RDDOperationScope.scala:151)\n",
      "\tat org.apache.spark.rdd.RDDOperationScope$.withScope(RDDOperationScope.scala:112)\n",
      "\tat org.apache.spark.rdd.RDD.withScope(RDD.scala:414)\n",
      "\tat org.apache.spark.rdd.RDD.collect(RDD.scala:1029)\n",
      "\tat org.apache.spark.sql.execution.SparkPlan.executeCollect(SparkPlan.scala:402)\n",
      "\tat org.apache.spark.sql.Dataset.$anonfun$collectToPython$1(Dataset.scala:3587)\n",
      "\tat org.apache.spark.sql.Dataset.$anonfun$withAction$1(Dataset.scala:3751)\n",
      "\tat org.apache.spark.sql.catalyst.QueryPlanningTracker$.withTracker(QueryPlanningTracker.scala:107)\n",
      "\tat org.apache.spark.sql.execution.SQLExecution$.withTracker(SQLExecution.scala:232)\n",
      "\tat org.apache.spark.sql.execution.SQLExecution$.executeQuery$1(SQLExecution.scala:110)\n",
      "\tat org.apache.spark.sql.execution.SQLExecution$.$anonfun$withNewExecutionId$6(SQLExecution.scala:135)\n",
      "\tat org.apache.spark.sql.catalyst.QueryPlanningTracker$.withTracker(QueryPlanningTracker.scala:107)\n",
      "\tat org.apache.spark.sql.execution.SQLExecution$.withTracker(SQLExecution.scala:232)\n",
      "\tat org.apache.spark.sql.execution.SQLExecution$.$anonfun$withNewExecutionId$5(SQLExecution.scala:135)\n",
      "\tat org.apache.spark.sql.execution.SQLExecution$.withSQLConfPropagated(SQLExecution.scala:253)\n",
      "\tat org.apache.spark.sql.execution.SQLExecution$.$anonfun$withNewExecutionId$1(SQLExecution.scala:134)\n",
      "\tat org.apache.spark.sql.SparkSession.withActive(SparkSession.scala:775)\n",
      "\tat org.apache.spark.sql.execution.SQLExecution$.withNewExecutionId(SQLExecution.scala:68)\n",
      "\tat org.apache.spark.sql.Dataset.withAction(Dataset.scala:3749)\n",
      "\tat org.apache.spark.sql.Dataset.collectToPython(Dataset.scala:3584)\n",
      "\tat sun.reflect.NativeMethodAccessorImpl.invoke0(Native Method)\n",
      "\tat sun.reflect.NativeMethodAccessorImpl.invoke(NativeMethodAccessorImpl.java:62)\n",
      "\tat sun.reflect.DelegatingMethodAccessorImpl.invoke(DelegatingMethodAccessorImpl.java:43)\n",
      "\tat java.lang.reflect.Method.invoke(Method.java:498)\n",
      "\tat py4j.reflection.MethodInvoker.invoke(MethodInvoker.java:244)\n",
      "\tat py4j.reflection.ReflectionEngine.invoke(ReflectionEngine.java:357)\n",
      "\tat py4j.Gateway.invoke(Gateway.java:282)\n",
      "\tat py4j.commands.AbstractCommand.invokeMethod(AbstractCommand.java:132)\n",
      "\tat py4j.commands.CallCommand.execute(CallCommand.java:79)\n",
      "\tat py4j.GatewayConnection.run(GatewayConnection.java:238)\n",
      "\tat java.lang.Thread.run(Thread.java:750)\n",
      "\n",
      "Traceback (most recent call last):\n",
      "  File \"/usr/lib/spark/python/lib/pyspark.zip/pyspark/sql/pandas/conversion.py\", line 141, in toPandas\n",
      "    pdf = pd.DataFrame.from_records(self.collect(), columns=self.columns)\n",
      "  File \"/usr/lib/spark/python/lib/pyspark.zip/pyspark/sql/dataframe.py\", line 678, in collect\n",
      "    sock_info = self._jdf.collectToPython()\n",
      "  File \"/usr/lib/spark/python/lib/py4j-0.10.9-src.zip/py4j/java_gateway.py\", line 1305, in __call__\n",
      "    answer, self.gateway_client, self.target_id, self.name)\n",
      "  File \"/usr/lib/spark/python/lib/pyspark.zip/pyspark/sql/utils.py\", line 111, in deco\n",
      "    return f(*a, **kw)\n",
      "  File \"/usr/lib/spark/python/lib/py4j-0.10.9-src.zip/py4j/protocol.py\", line 328, in get_return_value\n",
      "    format(target_id, \".\", name), value)\n",
      "py4j.protocol.Py4JJavaError: An error occurred while calling o217.collectToPython.\n",
      ": org.apache.spark.SparkException: Job aborted due to stage failure: Total size of serialized results of 20 tasks (1073.8 MiB) is bigger than spark.driver.maxResultSize (1024.0 MiB)\n",
      "\tat org.apache.spark.scheduler.DAGScheduler.failJobAndIndependentStages(DAGScheduler.scala:2470)\n",
      "\tat org.apache.spark.scheduler.DAGScheduler.$anonfun$abortStage$2(DAGScheduler.scala:2419)\n",
      "\tat org.apache.spark.scheduler.DAGScheduler.$anonfun$abortStage$2$adapted(DAGScheduler.scala:2418)\n",
      "\tat scala.collection.mutable.ResizableArray.foreach(ResizableArray.scala:62)\n",
      "\tat scala.collection.mutable.ResizableArray.foreach$(ResizableArray.scala:55)\n",
      "\tat scala.collection.mutable.ArrayBuffer.foreach(ArrayBuffer.scala:49)\n",
      "\tat org.apache.spark.scheduler.DAGScheduler.abortStage(DAGScheduler.scala:2418)\n",
      "\tat org.apache.spark.scheduler.DAGScheduler.$anonfun$handleTaskSetFailed$1(DAGScheduler.scala:1125)\n",
      "\tat org.apache.spark.scheduler.DAGScheduler.$anonfun$handleTaskSetFailed$1$adapted(DAGScheduler.scala:1125)\n",
      "\tat scala.Option.foreach(Option.scala:407)\n",
      "\tat org.apache.spark.scheduler.DAGScheduler.handleTaskSetFailed(DAGScheduler.scala:1125)\n",
      "\tat org.apache.spark.scheduler.DAGSchedulerEventProcessLoop.doOnReceive(DAGScheduler.scala:2684)\n",
      "\tat org.apache.spark.scheduler.DAGSchedulerEventProcessLoop.onReceive(DAGScheduler.scala:2626)\n",
      "\tat org.apache.spark.scheduler.DAGSchedulerEventProcessLoop.onReceive(DAGScheduler.scala:2615)\n",
      "\tat org.apache.spark.util.EventLoop$$anon$1.run(EventLoop.scala:49)\n",
      "\tat org.apache.spark.scheduler.DAGScheduler.runJob(DAGScheduler.scala:914)\n",
      "\tat org.apache.spark.SparkContext.runJob(SparkContext.scala:2241)\n",
      "\tat org.apache.spark.SparkContext.runJob(SparkContext.scala:2262)\n",
      "\tat org.apache.spark.SparkContext.runJob(SparkContext.scala:2281)\n",
      "\tat org.apache.spark.SparkContext.runJob(SparkContext.scala:2306)\n",
      "\tat org.apache.spark.rdd.RDD.$anonfun$collect$1(RDD.scala:1030)\n",
      "\tat org.apache.spark.rdd.RDDOperationScope$.withScope(RDDOperationScope.scala:151)\n",
      "\tat org.apache.spark.rdd.RDDOperationScope$.withScope(RDDOperationScope.scala:112)\n",
      "\tat org.apache.spark.rdd.RDD.withScope(RDD.scala:414)\n",
      "\tat org.apache.spark.rdd.RDD.collect(RDD.scala:1029)\n",
      "\tat org.apache.spark.sql.execution.SparkPlan.executeCollect(SparkPlan.scala:402)\n",
      "\tat org.apache.spark.sql.Dataset.$anonfun$collectToPython$1(Dataset.scala:3587)\n",
      "\tat org.apache.spark.sql.Dataset.$anonfun$withAction$1(Dataset.scala:3751)\n",
      "\tat org.apache.spark.sql.catalyst.QueryPlanningTracker$.withTracker(QueryPlanningTracker.scala:107)\n",
      "\tat org.apache.spark.sql.execution.SQLExecution$.withTracker(SQLExecution.scala:232)\n",
      "\tat org.apache.spark.sql.execution.SQLExecution$.executeQuery$1(SQLExecution.scala:110)\n",
      "\tat org.apache.spark.sql.execution.SQLExecution$.$anonfun$withNewExecutionId$6(SQLExecution.scala:135)\n",
      "\tat org.apache.spark.sql.catalyst.QueryPlanningTracker$.withTracker(QueryPlanningTracker.scala:107)\n",
      "\tat org.apache.spark.sql.execution.SQLExecution$.withTracker(SQLExecution.scala:232)\n",
      "\tat org.apache.spark.sql.execution.SQLExecution$.$anonfun$withNewExecutionId$5(SQLExecution.scala:135)\n",
      "\tat org.apache.spark.sql.execution.SQLExecution$.withSQLConfPropagated(SQLExecution.scala:253)\n",
      "\tat org.apache.spark.sql.execution.SQLExecution$.$anonfun$withNewExecutionId$1(SQLExecution.scala:134)\n",
      "\tat org.apache.spark.sql.SparkSession.withActive(SparkSession.scala:775)\n",
      "\tat org.apache.spark.sql.execution.SQLExecution$.withNewExecutionId(SQLExecution.scala:68)\n",
      "\tat org.apache.spark.sql.Dataset.withAction(Dataset.scala:3749)\n",
      "\tat org.apache.spark.sql.Dataset.collectToPython(Dataset.scala:3584)\n",
      "\tat sun.reflect.NativeMethodAccessorImpl.invoke0(Native Method)\n",
      "\tat sun.reflect.NativeMethodAccessorImpl.invoke(NativeMethodAccessorImpl.java:62)\n",
      "\tat sun.reflect.DelegatingMethodAccessorImpl.invoke(DelegatingMethodAccessorImpl.java:43)\n",
      "\tat java.lang.reflect.Method.invoke(Method.java:498)\n",
      "\tat py4j.reflection.MethodInvoker.invoke(MethodInvoker.java:244)\n",
      "\tat py4j.reflection.ReflectionEngine.invoke(ReflectionEngine.java:357)\n",
      "\tat py4j.Gateway.invoke(Gateway.java:282)\n",
      "\tat py4j.commands.AbstractCommand.invokeMethod(AbstractCommand.java:132)\n",
      "\tat py4j.commands.CallCommand.execute(CallCommand.java:79)\n",
      "\tat py4j.GatewayConnection.run(GatewayConnection.java:238)\n",
      "\tat java.lang.Thread.run(Thread.java:750)\n",
      "\n",
      "\n"
     ]
    }
   ],
   "source": [
    "# Conversão da subamostra em pandas\n",
    "\n",
    "#NOTA os dados sao demasiado grandes para transformarmos em pandas\n",
    "#logo nao podemos correr a serie temporal a seguir\n",
    "\n",
    "taxis_and_limosines = taxis_and_limosines.toPandas()"
   ]
  },
  {
   "cell_type": "code",
   "execution_count": 69,
   "id": "a366a887-07ff-474b-a52a-2d0e837a71af",
   "metadata": {},
   "outputs": [
    {
     "data": {
      "text/plain": [
       "Text(0, 0.5, 'Total Amount')"
      ]
     },
     "execution_count": 69,
     "metadata": {},
     "output_type": "execute_result"
    },
    {
     "data": {
      "image/png": "[encoded data removed]",
      "text/plain": [
       "<Figure size 432x288 with 1 Axes>"
      ]
     },
     "metadata": {
      "needs_background": "light"
     },
     "output_type": "display_data"
    }
   ],
   "source": [
    "# Gráfico das receitas diárias ao longo do mês\n",
    "\n",
    "receitas_diarias = subamostra_pandas.groupby(subamostra_pandas[' pickup_datetime'].dt.date).sum()\n",
    "\n",
    "plt.plot(receitas_diarias.index, receitas_diarias[' total_amount'])\n",
    "plt.legend([\"Montante\"])\n",
    "plt.gcf().autofmt_xdate()\n",
    "plt.title('Receitas diárias')\n",
    "plt.xlabel('Data')\n",
    "plt.ylabel('Total Amount')"
   ]
  },
  {
   "cell_type": "code",
   "execution_count": 30,
   "id": "3b9afb72-2a94-4feb-9a68-4c98db4f6106",
   "metadata": {
    "execution": {
     "iopub.execute_input": "2022-04-09T21:13:23.708351Z",
     "iopub.status.busy": "2022-04-09T21:13:23.708116Z",
     "iopub.status.idle": "2022-04-09T21:19:18.518283Z",
     "shell.execute_reply": "2022-04-09T21:19:18.517423Z",
     "shell.execute_reply.started": "2022-04-09T21:13:23.708326Z"
    },
    "tags": []
   },
   "outputs": [
    {
     "data": {
      "application/vnd.jupyter.widget-view+json": {
       "model_id": "69cdfa0e4f9045259f5320235f060d41",
       "version_major": 2,
       "version_minor": 0
      },
      "text/plain": [
       "VBox()"
      ]
     },
     "metadata": {},
     "output_type": "display_data"
    },
    {
     "data": {
      "application/vnd.jupyter.widget-view+json": {
       "model_id": "",
       "version_major": 2,
       "version_minor": 0
      },
      "text/plain": [
       "FloatProgress(value=0.0, bar_style='info', description='Progress:', layout=Layout(height='25px', width='50%'),…"
      ]
     },
     "metadata": {},
     "output_type": "display_data"
    },
    {
     "name": "stdout",
     "output_type": "stream",
     "text": [
      " passenger_count :  0.014637863431405558\n",
      " trip_distance :  0.9391157739273855\n",
      " pickup_longitude :  -0.005533764425310285\n",
      " pickup_latitude :  0.005924055354555016\n",
      " rate_code :  0.5819343725487813\n",
      " store_and_fwd_flag :  0.012108471621690086\n",
      " dropoff_longitude :  -0.006536415201365466\n",
      " dropoff_latitude :  0.006702587535749901\n",
      " fare_amount :  0.9827932148034818\n",
      " surcharge :  -0.046329971625638684\n",
      " mta_tax :  -0.30125667027893965\n",
      " tip_amount :  0.6602325764039984\n",
      " tolls_amount :  0.6811384469880634\n",
      " trip_duration :  0.8253101787376363\n",
      " total_amount :  1.0"
     ]
    }
   ],
   "source": [
    "numericas = taxis_and_limosines.select(' passenger_count', ' trip_distance', ' pickup_longitude', ' pickup_latitude', ' rate_code', ' store_and_fwd_flag', ' dropoff_longitude', ' dropoff_latitude', ' fare_amount', ' surcharge', ' mta_tax', ' tip_amount', ' tolls_amount', ' trip_duration', ' total_amount')\n",
    "\n",
    "numericas = numericas.withColumn(' store_and_fwd_flag', when(numericas[' store_and_fwd_flag'] == 'Y', 1).otherwise(0))\n",
    "\n",
    "for i in numericas.columns:\n",
    "    print(i, ': ', numericas.stat.corr(i, ' total_amount'))"
   ]
  },
  {
   "cell_type": "code",
   "execution_count": 32,
   "id": "d9cf8af1-fd50-403a-bf3b-2b7dff122a4d",
   "metadata": {
    "execution": {
     "iopub.execute_input": "2022-04-09T21:19:53.914097Z",
     "iopub.status.busy": "2022-04-09T21:19:53.913863Z",
     "iopub.status.idle": "2022-04-09T21:20:09.199510Z",
     "shell.execute_reply": "2022-04-09T21:20:09.198756Z",
     "shell.execute_reply.started": "2022-04-09T21:19:53.914073Z"
    },
    "tags": []
   },
   "outputs": [
    {
     "data": {
      "application/vnd.jupyter.widget-view+json": {
       "model_id": "9cb548ccaa8b47c2ac22ebcb91d822a7",
       "version_major": 2,
       "version_minor": 0
      },
      "text/plain": [
       "VBox()"
      ]
     },
     "metadata": {},
     "output_type": "display_data"
    },
    {
     "name": "stderr",
     "output_type": "stream",
     "text": [
      "An error was encountered:\n",
      "Session 0 did not reach idle status in time. Current status is busy.\n"
     ]
    }
   ],
   "source": [
    "# Guardar o ficheiro representativo da subamostra para utilizar no notebook contendo apenas o algoritmo\n",
    "\n",
    "taxis_and_limosines.write.mode(\"overwrite\").csv(\"taxis_and_limosines_Full\",header=True)"
   ]
  },
  {
   "cell_type": "code",
   "execution_count": 34,
   "id": "2ed1e9a1-8ac2-4766-80e5-ea6da1adaa6d",
   "metadata": {
    "execution": {
     "iopub.execute_input": "2022-04-09T21:26:02.123395Z",
     "iopub.status.busy": "2022-04-09T21:26:02.123168Z",
     "iopub.status.idle": "2022-04-09T21:26:02.909064Z",
     "shell.execute_reply": "2022-04-09T21:26:02.908366Z",
     "shell.execute_reply.started": "2022-04-09T21:26:02.123372Z"
    },
    "tags": []
   },
   "outputs": [
    {
     "data": {
      "application/vnd.jupyter.widget-view+json": {
       "model_id": "67576bd1c3f04722af9ca8f2b95bc5af",
       "version_major": 2,
       "version_minor": 0
      },
      "text/plain": [
       "VBox()"
      ]
     },
     "metadata": {},
     "output_type": "display_data"
    },
    {
     "data": {
      "application/vnd.jupyter.widget-view+json": {
       "model_id": "",
       "version_major": 2,
       "version_minor": 0
      },
      "text/plain": [
       "FloatProgress(value=0.0, bar_style='info', description='Progress:', layout=Layout(height='25px', width='50%'),…"
      ]
     },
     "metadata": {},
     "output_type": "display_data"
    },
    {
     "name": "stdout",
     "output_type": "stream",
     "text": [
      "+--------------------+-------------+\n",
      "|            features| total_amount|\n",
      "+--------------------+-------------+\n",
      "|[2.7,1.0,14.0,0.0...|         14.5|\n",
      "|[20.4,1.0,58.5,0....|        64.33|\n",
      "|[2.1,1.0,9.5,0.0,...|         10.0|\n",
      "+--------------------+-------------+\n",
      "only showing top 3 rows"
     ]
    }
   ],
   "source": [
    "# Implementação do algoritmo utilizando os preditores mais correlacionados com a variável alvo\n",
    "\n",
    "vectorAssembler = VectorAssembler(inputCols = [' trip_distance', ' rate_code', ' fare_amount', ' tip_amount', ' tolls_amount', ' trip_duration'], outputCol = 'features')\n",
    "\n",
    "vhouse_df = vectorAssembler.transform(taxis_and_limosines)\n",
    "\n",
    "vhouse_df = vhouse_df.select(['features', ' total_amount'])\n",
    "\n",
    "vhouse_df.show(3)"
   ]
  },
  {
   "cell_type": "code",
   "execution_count": 35,
   "id": "9a094ab3-dabf-434f-a7ba-14be499cc619",
   "metadata": {
    "execution": {
     "iopub.execute_input": "2022-04-09T21:26:04.071682Z",
     "iopub.status.busy": "2022-04-09T21:26:04.071432Z",
     "iopub.status.idle": "2022-04-09T21:26:04.140401Z",
     "shell.execute_reply": "2022-04-09T21:26:04.139683Z",
     "shell.execute_reply.started": "2022-04-09T21:26:04.071656Z"
    }
   },
   "outputs": [
    {
     "data": {
      "application/vnd.jupyter.widget-view+json": {
       "model_id": "9a6c5df187594be588875bbe4c385dd1",
       "version_major": 2,
       "version_minor": 0
      },
      "text/plain": [
       "VBox()"
      ]
     },
     "metadata": {},
     "output_type": "display_data"
    },
    {
     "data": {
      "application/vnd.jupyter.widget-view+json": {
       "model_id": "",
       "version_major": 2,
       "version_minor": 0
      },
      "text/plain": [
       "FloatProgress(value=0.0, bar_style='info', description='Progress:', layout=Layout(height='25px', width='50%'),…"
      ]
     },
     "metadata": {},
     "output_type": "display_data"
    }
   ],
   "source": [
    "splits = vhouse_df.randomSplit([0.7, 0.3])\n",
    "\n",
    "subamostra_treino = splits[0]\n",
    "\n",
    "subamostra_teste = splits[1]"
   ]
  },
  {
   "cell_type": "code",
   "execution_count": 37,
   "id": "3f08e018-843b-4e5a-9769-809e84394969",
   "metadata": {
    "execution": {
     "iopub.execute_input": "2022-04-09T21:26:10.353592Z",
     "iopub.status.busy": "2022-04-09T21:26:10.353370Z",
     "iopub.status.idle": "2022-04-09T21:27:47.924359Z",
     "shell.execute_reply": "2022-04-09T21:27:47.923508Z",
     "shell.execute_reply.started": "2022-04-09T21:26:10.353568Z"
    },
    "tags": []
   },
   "outputs": [
    {
     "data": {
      "application/vnd.jupyter.widget-view+json": {
       "model_id": "80d67cd9e7e74d09ae671b20e297b42d",
       "version_major": 2,
       "version_minor": 0
      },
      "text/plain": [
       "VBox()"
      ]
     },
     "metadata": {},
     "output_type": "display_data"
    },
    {
     "data": {
      "application/vnd.jupyter.widget-view+json": {
       "model_id": "",
       "version_major": 2,
       "version_minor": 0
      },
      "text/plain": [
       "FloatProgress(value=0.0, bar_style='info', description='Progress:', layout=Layout(height='25px', width='50%'),…"
      ]
     },
     "metadata": {},
     "output_type": "display_data"
    }
   ],
   "source": [
    "lr = LinearRegression(featuresCol = 'features', labelCol = ' total_amount', maxIter=10, regParam=0.3, elasticNetParam=0.8)\n",
    "lr_model = lr.fit(subamostra_treino)"
   ]
  },
  {
   "cell_type": "code",
   "execution_count": 38,
   "id": "98462e90-9365-40b3-a30d-125aec84135d",
   "metadata": {
    "execution": {
     "iopub.execute_input": "2022-04-09T21:27:51.184412Z",
     "iopub.status.busy": "2022-04-09T21:27:51.184185Z",
     "iopub.status.idle": "2022-04-09T21:27:51.238986Z",
     "shell.execute_reply": "2022-04-09T21:27:51.238303Z",
     "shell.execute_reply.started": "2022-04-09T21:27:51.184389Z"
    },
    "tags": []
   },
   "outputs": [
    {
     "data": {
      "application/vnd.jupyter.widget-view+json": {
       "model_id": "852653cb520f4562a7d56980c7aa3a28",
       "version_major": 2,
       "version_minor": 0
      },
      "text/plain": [
       "VBox()"
      ]
     },
     "metadata": {},
     "output_type": "display_data"
    },
    {
     "data": {
      "application/vnd.jupyter.widget-view+json": {
       "model_id": "",
       "version_major": 2,
       "version_minor": 0
      },
      "text/plain": [
       "FloatProgress(value=0.0, bar_style='info', description='Progress:', layout=Layout(height='25px', width='50%'),…"
      ]
     },
     "metadata": {},
     "output_type": "display_data"
    },
    {
     "name": "stdout",
     "output_type": "stream",
     "text": [
      "RMSE: 1.167750\n",
      "r2: 0.991274"
     ]
    }
   ],
   "source": [
    "trainingSummary = lr_model.summary\n",
    "print(\"RMSE: %f\" % trainingSummary.rootMeanSquaredError)\n",
    "print(\"r2: %f\" % trainingSummary.r2)"
   ]
  },
  {
   "cell_type": "code",
   "execution_count": 40,
   "id": "93cfc2e8-743f-47a1-8585-38c6d3981002",
   "metadata": {
    "execution": {
     "iopub.execute_input": "2022-04-09T21:27:59.745481Z",
     "iopub.status.busy": "2022-04-09T21:27:59.745256Z",
     "iopub.status.idle": "2022-04-09T21:28:53.170080Z",
     "shell.execute_reply": "2022-04-09T21:28:53.169458Z",
     "shell.execute_reply.started": "2022-04-09T21:27:59.745457Z"
    },
    "tags": []
   },
   "outputs": [
    {
     "data": {
      "application/vnd.jupyter.widget-view+json": {
       "model_id": "f3aba6fc0e5849e9b658d7d20c9be433",
       "version_major": 2,
       "version_minor": 0
      },
      "text/plain": [
       "VBox()"
      ]
     },
     "metadata": {},
     "output_type": "display_data"
    },
    {
     "data": {
      "application/vnd.jupyter.widget-view+json": {
       "model_id": "",
       "version_major": 2,
       "version_minor": 0
      },
      "text/plain": [
       "FloatProgress(value=0.0, bar_style='info', description='Progress:', layout=Layout(height='25px', width='50%'),…"
      ]
     },
     "metadata": {},
     "output_type": "display_data"
    },
    {
     "name": "stdout",
     "output_type": "stream",
     "text": [
      "+------------------+-------------+--------------------+\n",
      "|        prediction| total_amount|            features|\n",
      "+------------------+-------------+--------------------+\n",
      "|3.9349549562690376|          3.0|[0.01,1.0,2.5,0.0...|\n",
      "|3.9349549562690376|          3.0|[0.01,1.0,2.5,0.0...|\n",
      "|3.9349549562690376|          3.0|[0.01,1.0,2.5,0.0...|\n",
      "|3.9349549562690376|          3.0|[0.01,1.0,2.5,0.0...|\n",
      "|3.9349549562690376|          3.0|[0.01,1.0,2.5,0.0...|\n",
      "+------------------+-------------+--------------------+\n",
      "only showing top 5 rows\n",
      "\n",
      "R quadrado sobre o conjunto de teste = 0.991441"
     ]
    }
   ],
   "source": [
    "# Avaliação da performance preditiva sobre o conjunto de teste\n",
    "\n",
    "lr_predictions = lr_model.transform(subamostra_teste)\n",
    "lr_predictions.select('prediction', ' total_amount', 'features').show(5)\n",
    "from pyspark.ml.evaluation import RegressionEvaluator\n",
    "lr_evaluator = RegressionEvaluator(predictionCol = 'prediction', \\\n",
    "                 labelCol= ' total_amount', metricName = 'r2')\n",
    "print('R quadrado sobre o conjunto de teste = %g' % lr_evaluator.evaluate(lr_predictions))"
   ]
  },
  {
   "cell_type": "code",
   "execution_count": 41,
   "id": "0e31edf7-b7cd-47f9-9b85-72ad1b4d65bf",
   "metadata": {
    "execution": {
     "iopub.execute_input": "2022-04-09T21:28:58.233688Z",
     "iopub.status.busy": "2022-04-09T21:28:58.233403Z",
     "iopub.status.idle": "2022-04-09T21:29:39.654633Z",
     "shell.execute_reply": "2022-04-09T21:29:39.653905Z",
     "shell.execute_reply.started": "2022-04-09T21:28:58.233662Z"
    },
    "tags": []
   },
   "outputs": [
    {
     "data": {
      "application/vnd.jupyter.widget-view+json": {
       "model_id": "cfa9ba7d95f546e7b88811bdfd4f76bc",
       "version_major": 2,
       "version_minor": 0
      },
      "text/plain": [
       "VBox()"
      ]
     },
     "metadata": {},
     "output_type": "display_data"
    },
    {
     "data": {
      "application/vnd.jupyter.widget-view+json": {
       "model_id": "",
       "version_major": 2,
       "version_minor": 0
      },
      "text/plain": [
       "FloatProgress(value=0.0, bar_style='info', description='Progress:', layout=Layout(height='25px', width='50%'),…"
      ]
     },
     "metadata": {},
     "output_type": "display_data"
    },
    {
     "name": "stdout",
     "output_type": "stream",
     "text": [
      "Root Mean Squared Error (RMSE) no conjunto de treino = 1.15665"
     ]
    }
   ],
   "source": [
    "test_result = lr_model.evaluate(subamostra_teste)\n",
    "print('Root Mean Squared Error (RMSE) no conjunto de treino = %g' % test_result.rootMeanSquaredError)"
   ]
  },
  {
   "cell_type": "code",
   "execution_count": 44,
   "id": "654b8593-523d-4dca-a72d-db0f01596904",
   "metadata": {
    "execution": {
     "iopub.execute_input": "2022-04-09T21:31:04.303850Z",
     "iopub.status.busy": "2022-04-09T21:31:04.303561Z",
     "iopub.status.idle": "2022-04-09T21:31:25.652975Z",
     "shell.execute_reply": "2022-04-09T21:31:25.652248Z",
     "shell.execute_reply.started": "2022-04-09T21:31:04.303825Z"
    },
    "tags": []
   },
   "outputs": [
    {
     "data": {
      "application/vnd.jupyter.widget-view+json": {
       "model_id": "50dff4fcfa044a10853bd8686753cb25",
       "version_major": 2,
       "version_minor": 0
      },
      "text/plain": [
       "VBox()"
      ]
     },
     "metadata": {},
     "output_type": "display_data"
    },
    {
     "data": {
      "application/vnd.jupyter.widget-view+json": {
       "model_id": "",
       "version_major": 2,
       "version_minor": 0
      },
      "text/plain": [
       "FloatProgress(value=0.0, bar_style='info', description='Progress:', layout=Layout(height='25px', width='50%'),…"
      ]
     },
     "metadata": {},
     "output_type": "display_data"
    },
    {
     "name": "stdout",
     "output_type": "stream",
     "text": [
      "+------------------+-------------+--------------------+\n",
      "|        prediction| total_amount|            features|\n",
      "+------------------+-------------+--------------------+\n",
      "|3.9349549562690376|          3.0|[0.01,1.0,2.5,0.0...|\n",
      "|3.9349549562690376|          3.0|[0.01,1.0,2.5,0.0...|\n",
      "|3.9349549562690376|          3.0|[0.01,1.0,2.5,0.0...|\n",
      "|3.9349549562690376|          3.0|[0.01,1.0,2.5,0.0...|\n",
      "|3.9349549562690376|          3.0|[0.01,1.0,2.5,0.0...|\n",
      "|3.9349549562690376|          3.0|[0.01,1.0,2.5,0.0...|\n",
      "|3.9349549562690376|          3.0|[0.01,1.0,2.5,0.0...|\n",
      "|3.9349549562690376|          3.5|[0.01,1.0,2.5,0.0...|\n",
      "|3.9349549562690376|          3.5|[0.01,1.0,2.5,0.0...|\n",
      "|3.9349549562690376|          3.5|[0.01,1.0,2.5,0.0...|\n",
      "|3.9349549562690376|          3.5|[0.01,1.0,2.5,0.0...|\n",
      "|3.9349549562690376|          3.5|[0.01,1.0,2.5,0.0...|\n",
      "|3.9349549562690376|          4.0|[0.01,1.0,2.5,0.0...|\n",
      "|3.9349549562690376|          4.0|[0.01,1.0,2.5,0.0...|\n",
      "|3.9349549562690376|          4.0|[0.01,1.0,2.5,0.0...|\n",
      "|3.9349549562690376|          4.0|[0.01,1.0,2.5,0.0...|\n",
      "|3.9349549562690376|          4.0|[0.01,1.0,2.5,0.0...|\n",
      "|3.9349549562690376|          4.0|[0.01,1.0,2.5,0.0...|\n",
      "|3.9349549562690376|          4.0|[0.01,1.0,2.5,0.0...|\n",
      "|3.9349549562690376|          4.0|[0.01,1.0,2.5,0.0...|\n",
      "+------------------+-------------+--------------------+\n",
      "only showing top 20 rows"
     ]
    }
   ],
   "source": [
    "predictions = lr_model.transform(subamostra_teste)\n",
    "predictions.select('prediction', ' total_amount','features').show()"
   ]
  }
 ],
 "metadata": {
  "kernelspec": {
   "display_name": "PySpark",
   "language": "",
   "name": "pysparkkernel"
  },
  "language_info": {
   "codemirror_mode": {
    "name": "python",
    "version": 3
   },
   "mimetype": "text/x-python",
   "name": "pyspark",
   "pygments_lexer": "python3"
  }
 },
 "nbformat": 4,
 "nbformat_minor": 5
}
